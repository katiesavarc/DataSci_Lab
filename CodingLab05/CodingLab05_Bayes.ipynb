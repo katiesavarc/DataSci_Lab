{
 "cells": [
  {
   "cell_type": "markdown",
   "metadata": {},
   "source": [
    "# PHYS 321 Coding Lab #5: Code Testing and Bayesian Statistics with M&Ms and Radioactivity"
   ]
  },
  {
   "cell_type": "markdown",
   "metadata": {},
   "source": [
    "In this Coding Lab, our goal is to learn about code testing and to sharpen our Bayesian statistics skills."
   ]
  },
  {
   "cell_type": "code",
   "execution_count": 3,
   "metadata": {},
   "outputs": [],
   "source": [
    "import numpy as np"
   ]
  },
  {
   "cell_type": "markdown",
   "metadata": {},
   "source": [
    "## Bayesian inference with M&Ms"
   ]
  },
  {
   "cell_type": "markdown",
   "metadata": {},
   "source": [
    "(Note: I am indebted to Prof. Gwen Eadie of the University of Toronto, who pioneered a similar M&Ms-based teaching activity while a postdoctoral scholar at the University of Washington)"
   ]
  },
  {
   "cell_type": "markdown",
   "metadata": {},
   "source": [
    "<div>\n",
    "<img src=\"images/M&Ms.jpg\" width=\"400\">\n",
    "</div>"
   ]
  },
  {
   "cell_type": "markdown",
   "metadata": {},
   "source": [
    "If you've consumed M&Ms before, you are probably aware that M&Ms come in a variety of different colours: red, orange, yellow, green, brown, and blue. Exactly how many of each colour one gets in a packet will depend on systematic effects (e.g., at which factory the packet was assembled) and will also have some randomness to it.\n",
    "\n",
    "What we will do today is to answer the following question: __what fraction $b$ of M&Ms do we expect to be blue?__ The goal is to set up the problem as a Bayesian inference problem."
   ]
  },
  {
   "cell_type": "markdown",
   "metadata": {},
   "source": [
    "One approach might be to open up a packet of M&Ms, and then to just count up the number of blue M&Ms, divide by the total number of M&Ms, and declare that to be your answer. However, such an approach does not account for the fact that there is some randomness to the problem."
   ]
  },
  {
   "cell_type": "markdown",
   "metadata": {},
   "source": [
    "Recall that Bayes' theorem says that if we want to infer a parameter $b$, we can take some data $d$ and compute\n",
    "\n",
    "\\begin{equation}\n",
    "p(b|d) \\propto p(d|b) p(b),\n",
    "\\end{equation}\n",
    "where $p(b|d)$ is the *posterior* distribution for the parameter $b$ given the measured data $d$, $p(d|b)$ is the *likelihood* function that tells us the probability of measuring data $d$ given the value $b$, and $p(b)$ is our *prior* belief on the distribution of $b$ before we've taken any data. In this case, our data is the number of blue M&Ms that we find in our packet. After we've collected our data, plugging $d$ into Bayes theorem might give something like this:\n",
    "\n",
    "<div>\n",
    "<img src=\"images/fake_posterior.png\" width=\"400\">\n",
    "</div>\n",
    "Your posterior distribution will not look like this (because I made the plot using fake data). But if this had in fact been the result, it would lead you to conclude that the probability of getting a blue M&M is about $b \\approx 0.6$. The error bar on your estimate of $b$ would be determined by the width of this distribution."
   ]
  },
  {
   "cell_type": "markdown",
   "metadata": {},
   "source": [
    "__Question__: Let's get started on our Bayesian inference. Write down the likelihood function $p(d|b)$.\n",
    "\n",
    "[Hint: think of $b$ as the fraction of blue M&Ms that are produced at the factory. Now imagine that you work at the factory, and your job is to fill a bag containing $n$ M&Ms. You fill the bag one M&M at a time each time drawing from what is (approximately) an infinite pool of M&Ms in the factory. What is the probability that you end up with $d$ blue M&Ms in a packet containing a total of $n$ M&Ms?]"
   ]
  },
  {
   "cell_type": "markdown",
   "metadata": {},
   "source": [
    "## Your answer here\n",
    "We think the probability can be modelled by a binomial distribution.\n",
    "p(d|b) =Binomial(d, b, n) where the Binomial is described as $p(d,b,n)=\\frac{n!}{d!(n-d)!}(b)^{d}(1-b)^{(n-d)}$"
   ]
  },
  {
   "cell_type": "markdown",
   "metadata": {},
   "source": [
    "Our next step is to decide on a prior distribution. In principle, this can be anything that reflects your belief (your \"best guess\" prior to conducting the experiment). As an example, suppose I am trying to measure the distance $d_\\textrm{gal}$ to a galaxy. I measure $d_\\textrm{meas}$, with an error bar of $\\sigma_m$. If my measurement errors are Gaussian-distributed, my likelihood function is\n",
    "\n",
    "\\begin{equation}\n",
    "p(d_\\textrm{meas} | d_\\textrm{gal}) = \\frac{1}{\\sqrt{2 \\pi \\sigma_m^2}} \\exp \\left[- \\frac{(d_\\textrm{gal} - d_\\textrm{meas})^2}{2 \\sigma_m^2}\\right].\n",
    "\\end{equation}\n",
    "\n",
    "Now suppose that my prior belief on $d_\\textrm{gal}$ is also Gaussian distributed, but centred about some guess $d_\\textrm{guess}$:\n",
    "\n",
    "\\begin{equation}\n",
    "p(d_\\textrm{gal}) = \\frac{1}{\\sqrt{2 \\pi \\sigma_p^2}} \\exp \\left[- \\frac{(d_\\textrm{gal} - d_\\textrm{guess})^2}{2 \\sigma_p^2}\\right],\n",
    "\\end{equation}\n",
    "where $\\sigma_p$ is the uncertainty in my prior knowledge.\n",
    "\n",
    "If I multiply the likelihood by the prior to get the posterior, a little algebraic simplification reveals that\n",
    "\n",
    "\\begin{equation}\n",
    "p(d_\\textrm{gal} | d_\\textrm{meas}) \\propto \\exp \\left[ -\\frac{(d_\\textrm{gal} - \\overline{d})^2}{2 \\overline{\\sigma}^2}\\right],\n",
    "\\end{equation}\n",
    "where $\\overline{d} \\equiv (d_\\textrm{meas}/\\sigma_m^2 + d_\\textrm{guess}/\\sigma_p^2)/(1/\\sigma_p^2 + 1/ \\sigma_m^2)$ and $\\overline{\\sigma} \\equiv (1/\\sigma_p^2 + 1/ \\sigma_m^2)^{-1/2}$. Graphically, this looks like:\n",
    "<div>\n",
    "<img src=\"images/gauss_conjugate.png\" width=\"800\">\n",
    "</div>\n",
    "This illustrates the idea that a Bayesian analysis takes a broad, unconstrained distribution of possibilities and updates it using data."
   ]
  },
  {
   "cell_type": "markdown",
   "metadata": {},
   "source": [
    "Back to the M&Ms. What's your prior on $b$, the fraction of blue M&Ms in a packet?"
   ]
  },
  {
   "cell_type": "markdown",
   "metadata": {},
   "source": [
    "__Exercise__: Write a function that generates a plot of your prior on $b$."
   ]
  },
  {
   "cell_type": "markdown",
   "metadata": {},
   "source": [
    "Our initial prior is a Uniform distribution\n",
    "prior p(b_actual) = uniform(1/n)\n",
    "\n",
    "n: number of trials\n",
    "\n",
    "\n",
    "Prior: p(b_actual) = Binomial(b_actual*n, n, b_guess).\n",
    "For the further section when counting our M&Ms our second prior is the Binomial distribution \n",
    "\n",
    "x: number of blue\n",
    "\n",
    "n: number of trials\n",
    "\n",
    "p: probability of blue\n"
   ]
  },
  {
   "cell_type": "code",
   "execution_count": 6,
   "metadata": {},
   "outputs": [
    {
     "data": {
      "image/png": "[encoded data removed]",
      "text/plain": [
       "<Figure size 432x288 with 1 Axes>"
      ]
     },
     "metadata": {
      "needs_background": "light"
     },
     "output_type": "display_data"
    }
   ],
   "source": [
    "## Your code and plot goes here\n",
    "from scipy.stats import binom\n",
    "import matplotlib.pyplot as plt\n",
    "b_guess = 1/6 #There are 6 colours, assume an even split\n",
    "\n",
    "def prior(b_actual, b_guess, n_tot, prior_func):\n",
    "    \n",
    "    #add a switch for vague (wide gaussian or uniform) vs more confident (binomial)\n",
    "    #Should add a 'custom' option which takes an array of the previous sample's posterior as an input prior for this sample\n",
    "    if prior_func == 'binomial':\n",
    "        n_actual = np.round(b_actual*n_tot)\n",
    "        P = binom.pmf(n_actual, n_tot, b_guess)\n",
    "    if prior_func == 'uniform':\n",
    "        P = [1/n_tot]*len(b_actual)\n",
    "        \n",
    "    return np.array(P)\n",
    "\n",
    "prior_func = 'uniform'\n",
    "n_tot = 100\n",
    "xp = np.linspace(0.001,0.999,n_tot)\n",
    "P = prior(xp, b_guess, n_tot, prior_func)\n",
    "plt.plot(xp,P)\n",
    "plt.xlabel('Number of blue M&M\\'s')\n",
    "plt.ylabel('Probabilty')\n",
    "plt.show()"
   ]
  },
  {
   "cell_type": "markdown",
   "metadata": {},
   "source": [
    "## Your (short) discussion of what you picked goes here\n",
    "We choose a uniform distribution as we assumed that probability of having any number of blue M&MS will be the same in any bag. We choose this because we have no background information about how the factories split the colors and this is a good general case."
   ]
  },
  {
   "cell_type": "markdown",
   "metadata": {},
   "source": [
    "__Exercise__: Write some code that will take in your measured data ($d$ blue M&Ms out of a packet containing $n$ M&Ms) and generate plots of the prior, likelihood, and posterior distributions. (Hint: Don't forget that even though we've written a lot of our probability distributions with proportionality signs so far, a proper probability distribution function needs to be normalized so that it integrates to 1!)"
   ]
  },
  {
   "cell_type": "code",
   "execution_count": 7,
   "metadata": {},
   "outputs": [
    {
     "data": {
      "image/png": "[encoded data removed]",
      "text/plain": [
       "<Figure size 432x288 with 1 Axes>"
      ]
     },
     "metadata": {
      "needs_background": "light"
     },
     "output_type": "display_data"
    }
   ],
   "source": [
    "## Your code here\n",
    "#p(d|b) = Binomial(d, n, b)\n",
    "\n",
    "def likelihood(d, b_vals, n_tot):\n",
    "    P = binom.pmf(d, n_tot, b_vals)\n",
    "    return P\n",
    "\n",
    "#p(b|d) = p(d|b)*p(b)/p(d)\n",
    "def posterior_non_normalized(b_vals, d, n_tot, b_prior_guess, prior_func):\n",
    "                            \n",
    "    \n",
    "    P_likelihood = likelihood(d, b_vals, n_tot)\n",
    "    P_prior = prior(b_vals, b_prior_guess, n_tot, prior_func)\n",
    "    #Get the non-normalized posterior\n",
    "    P_posterior = P_likelihood*P_prior\n",
    "    \n",
    "    return P_posterior\n",
    "    \n",
    "def posterior_normalized(d, n_tot, b_prior_guess, b_vals, prior_func):\n",
    "    \n",
    "    P_posterior_vals = posterior_non_normalized(b_vals, d, n_tot, b_prior_guess, prior_func)\n",
    "    \n",
    "    #need dx here to get true area\n",
    "    dx= b_vals[2]-b_vals[1]\n",
    "    \n",
    "    normalization_factor = sum(P_posterior_vals*dx) #equal to p(d) with uniform distribution\n",
    "    P_posterior_pmf = P_posterior_vals/normalization_factor\n",
    "    \n",
    "    return P_posterior_pmf\n",
    "\n",
    "def normalization(Prob,b_vals):\n",
    "    dx= b_vals[2]-b_vals[1]\n",
    "    norm = sum(Prob*dx)\n",
    "    return (Prob/norm)\n",
    "    \n",
    "d = 30 #number of measured blue M&M\n",
    "n_tot = 100 #sample size, total number of M&M\n",
    "b_prior_guess = 1/6 #for binomial, irrelevant for uniform\n",
    "prior_func = 'uniform' \n",
    "b_vals = np.linspace(0.001, 0.999, n_tot) # possible number of blue M&M to measure\n",
    "dx= b_vals[2]-b_vals[1]\n",
    "\n",
    "P_posterior_pmf = posterior_normalized(d, n_tot, b_prior_guess, b_vals, prior_func)\n",
    "\n",
    "P_likelihood = likelihood(d, b_vals, n_tot)\n",
    "P_likelihood=normalization(P_likelihood,b_vals)\n",
    "\n",
    "P_prior = prior(b_vals, b_prior_guess, n_tot, prior_func)\n",
    "P_prior=normalization(P_prior,b_vals)\n",
    "\n",
    "plt.plot(b_vals, P_posterior_pmf,lw=7, alpha=0.8, label = 'Posterior')\n",
    "plt.plot(b_vals, P_likelihood ,lw=2,label = 'Likelihood')\n",
    "plt.plot(b_vals, P_prior, label = 'Prior')\n",
    "plt.legend()\n",
    "plt.xlabel('b')\n",
    "plt.ylabel('Probability Density')\n",
    "plt.title('Sample Data Testing of Posterior')\n",
    "plt.show()"
   ]
  },
  {
   "cell_type": "markdown",
   "metadata": {},
   "source": [
    "__Time to open up your packet of M&Ms!__ (Not a bad idea at this point to summon one of us to check your work so far)"
   ]
  },
  {
   "cell_type": "markdown",
   "metadata": {},
   "source": [
    "__Exercise__: Open your packet of M&Ms and count the number of blue M&Ms. Plot the prior, likelihood, and posterior distributions. Feel free to eat your data when you are done!"
   ]
  },
  {
   "cell_type": "code",
   "execution_count": 8,
   "metadata": {},
   "outputs": [],
   "source": [
    "## Your code here\n",
    "def run_sample_analysis(d, n_tot, b_prior_guess, prior_func):\n",
    "    \"\"\"\n",
    "    Apply Bayesian inference, plot results, and print the most likley value of b\n",
    "    \n",
    "    Return the prior pmf, the most likely value of b, and the array of b values on which the prior is calculated\n",
    "    \"\"\"\n",
    "    b_vals = np.linspace(0.001, 0.999, 1000)\n",
    "    \n",
    "    P_posterior_pmf = posterior_normalized(d, n_tot, b_prior_guess, b_vals, prior_func)\n",
    "    \n",
    "    P_likelihood = likelihood(d, b_vals, n_tot)\n",
    "    P_likelihood = normalization(P_likelihood,b_vals)\n",
    "    \n",
    "    P_prior = prior(b_vals, b_prior_guess, n_tot, prior_func)\n",
    "    P_prior = normalization(P_prior,b_vals)\n",
    "\n",
    "    b_max = b_vals[np.argmax(P_posterior_pmf)]\n",
    "\n",
    "    plt.plot(b_vals, P_posterior_pmf, label = 'Posterior')\n",
    "    plt.plot(b_vals, P_likelihood, label = 'Likelihood')\n",
    "    plt.plot(b_vals, P_prior, label = 'Prior')\n",
    "    plt.legend()\n",
    "    plt.xlabel('b')\n",
    "    plt.ylabel('Probability Density')\n",
    "    plt.title('Sample Data Testing of Posterior')\n",
    "    #plt.show()\n",
    "\n",
    "    print('Most likely value of b is',round(b_max,3))\n",
    "    \n",
    "    return P_posterior_pmf, b_max, b_vals"
   ]
  },
  {
   "cell_type": "code",
   "execution_count": 9,
   "metadata": {},
   "outputs": [
    {
     "name": "stdout",
     "output_type": "stream",
     "text": [
      "Most likely value of b is 0.128\n"
     ]
    },
    {
     "data": {
      "image/png": "[encoded data removed]",
      "text/plain": [
       "<Figure size 432x288 with 1 Axes>"
      ]
     },
     "metadata": {
      "needs_background": "light"
     },
     "output_type": "display_data"
    }
   ],
   "source": [
    "#Noah's M&M Data\n",
    "d_N = 61+57 #Could split this up into 2 samples for a total of 4 samples\n",
    "n_tot_N = (402+61)+(405+57)\n",
    "b_prior_guess_N = 1/6\n",
    "prior_func_N = 'uniform'\n",
    "\n",
    "#Apply Bayesian inference, plot results, and print the most likley value of b\n",
    "P_posterior_pmf_N, b_max_N, b_vals_N = run_sample_analysis(d_N, n_tot_N, b_prior_guess_N, prior_func_N)"
   ]
  },
  {
   "cell_type": "code",
   "execution_count": 10,
   "metadata": {},
   "outputs": [
    {
     "name": "stdout",
     "output_type": "stream",
     "text": [
      "Most likely value of b is 0.145\n"
     ]
    },
    {
     "data": {
      "image/png": "[encoded data removed]",
      "text/plain": [
       "<Figure size 432x288 with 1 Axes>"
      ]
     },
     "metadata": {
      "needs_background": "light"
     },
     "output_type": "display_data"
    }
   ],
   "source": [
    "#Katie's M&M Data\n",
    "d_K = 54 + 76\n",
    "n_tot_K = 450 + 450\n",
    "b_prior_guess_K = 1/6\n",
    "prior_func_K = 'uniform'\n",
    "\n",
    "#Apply Bayesian inference, plot results, and print the most likely value of b\n",
    "P_posterior_pmf_K, b_max_K, b_vals_K = run_sample_analysis(d_K, n_tot_K, b_prior_guess_K, prior_func_K)"
   ]
  },
  {
   "cell_type": "markdown",
   "metadata": {},
   "source": [
    "__Exercise__: Combine data with your partners. There are two ways to do this. One way is to simply combine your datasets into one big dataset and to redo your analysis. Another way to approach this is to use your posterior distribution as the prior for a second round of Bayesian updating. The posterior that comes out of that is then the prior for a third round etc. Do you get the same final posterior with the two methods? Plot the posterior that came from just your data and the posterior from everyone's data in the same figure. What happens as more and more data is added?"
   ]
  },
  {
   "cell_type": "code",
   "execution_count": 11,
   "metadata": {},
   "outputs": [
    {
     "name": "stdout",
     "output_type": "stream",
     "text": [
      "Most likely value of b is 0.136\n"
     ]
    },
    {
     "data": {
      "image/png": "[encoded data removed]",
      "text/plain": [
       "<Figure size 432x288 with 1 Axes>"
      ]
     },
     "metadata": {
      "needs_background": "light"
     },
     "output_type": "display_data"
    }
   ],
   "source": [
    "## Your code, plots, and discussion here\n",
    "\n",
    "#Using N data as first round, K data as second round\n",
    "d_K = 54 + 76\n",
    "n_tot_K = 450 + 450\n",
    "b_prior_guess_K = b_max_N\n",
    "prior_func_K = 'binomial'\n",
    "\n",
    "#Apply Bayesian inference, plot results, and print the most likley value of b\n",
    "P_posterior_pmf_K, b_max_K, b_vals_K = run_sample_analysis(d_K, n_tot_K, b_prior_guess_K, prior_func_K)\n",
    "plt.xlim(0.05,0.225)\n",
    "plt.show()"
   ]
  },
  {
   "cell_type": "markdown",
   "metadata": {},
   "source": [
    "According to The Internet, there are two factories that package M&Ms. One is located in Hackettstown, New Jersey, while the other is located in Cleveland, Tennessee. It turns out that depending on where the M&Ms were packaged, the value of $b$ differs! Here are the colour distributions ([Eadie et al. 2019](https://arxiv.org/abs/1904.11006)):"
   ]
  },
  {
   "cell_type": "markdown",
   "metadata": {},
   "source": [
    "<div>\n",
    "<img src=\"images/factorydistributions.png\" width=\"400\">\n",
    "</div>"
   ]
  },
  {
   "cell_type": "markdown",
   "metadata": {},
   "source": [
    "__Question__: Based on your posterior distribution for $b$, which factory do you think your M&Ms came from? If you look at the serial number of your packet (it's below where they have the \"best before\" date), you can see which factory your packet came from: if it contains \"CLV\" it came from the Tennesse factory; if it contains \"HKP\", it came from the New Jersey factory. Is your statistical analysis consistent with the serial number? A fascinating thing that I found when buying M&Ms is that there seems to be a third factory that is now manufacturing M&Ms! If you have a packet that is from neither \"CLV\" nor \"HKP\", what can you say about the distributions? Is it close to one of the old factories? Or does it seems like a different distribution altogether?"
   ]
  },
  {
   "cell_type": "markdown",
   "metadata": {},
   "source": [
    "## Your answer here\n",
    "The serial number on Katies M&M package is not from the suggested factories. Her bag had 14% blue M&M's which is lower than either of the compagnies so it must have come from this new factory. The same goes for Noah's bags where he had 13% blue M&M's.\n",
    "\n",
    "When using Noah's posterior as Katies prior we found 13.6% blue M&M's which again do not match either of the factories. \n"
   ]
  },
  {
   "cell_type": "markdown",
   "metadata": {},
   "source": [
    "## Quantifying Errors"
   ]
  },
  {
   "cell_type": "markdown",
   "metadata": {},
   "source": [
    "In principle, the posterior is everything we want, giving us detailed information about the distribution of possible values of a parameter. If possible, one should report posteriors. However, sometimes someone will ask you \"but if you had to quote a single number and its error bars, what would it be?\""
   ]
  },
  {
   "cell_type": "markdown",
   "metadata": {},
   "source": [
    "One complication with distilling our results into a single number and an error bar is that posterior distributions are often quite complicated. For example, consider the two probability distributions in the picture below:\n",
    "<div>\n",
    "<img src=\"images/multimodal.png\" width=\"400\">\n",
    "</div>"
   ]
  },
  {
   "cell_type": "markdown",
   "metadata": {},
   "source": [
    "If one's probability distribution is nice and Gaussian like with the black dashed line, the problem is easy. In this case, we get the same answer whether we quote the mean (average value), the median (the middle value if we rank-order all possible values from lowest to highest), or the mode (likeliest value, i.e., the $x$ value where the probability distribution peaks). The error bar $\\Delta x$ is then defined as the standard deviation of the distribution, or---equivalently, for a Gaussian distribution---the width $\\Delta x$ such that  $68\\%$ of the probability resides within $\\pm \\Delta x$ of the mean."
   ]
  },
  {
   "cell_type": "markdown",
   "metadata": {},
   "source": [
    "For the red, non-Gaussian (and multimodal!) probability distribution, the mean ($\\approx 4.2$), the median ($\\approx 4.3$), and the mode ($\\approx 3$). Which one do we quote?\n",
    "\n",
    "There is no \"right answer\" here, and different people do different things. (I guess the only \"right answer\" is to say that if the probability distribution is complicated, one should report the full posterior to make it clear what's going on!) One option is to quote the median and then to examine the *cumulative distribution function* to help us figure out the errors. The cumulative distribution function $P(x)$ for a particular probability distribution $p(x)$ is defined as\n",
    "\n",
    "\\begin{equation}\n",
    "P(x) = \\int_{-\\infty}^x p(x^\\prime) dx^\\prime.\n",
    "\\end{equation}\n",
    "What it tells us is the probability of getting an answer smaller than $x$. For example, if $P(x=6.2) = 0.3$, it means that the $30\\%$ of random draws from the distribution will give values less than $6.2$. We say that the value $6.2$ is the $30$th percentile of the distribution. The median, by definition, is the $50$th percentile of a distribution.\n",
    "\n",
    "In the plot below, we show the cumulative distribution functions for the probability distributions shown above:\n",
    "<div>\n",
    "<img src=\"images/CDFs.png\" width=\"400\">\n",
    "</div>\n",
    "The orange lines show how one can use a cumulative distribution function plot to read off the $16$th percentile, $50$th percentile (i.e., the median), and the $84$th percentile. Why are we interested in these values? Because $84 - 16 = 68$, so between the orange lines, we enclose $68\\%$ of the probability. We can use this to figure out \"the\" error bars on our result. In this case, we quote the median value and then the distance on either side to get to the $16$th and $84$th percentiles. Here, we would say $x = 4.3^{+1.2}_{-1.4}$. (Note the asymmetry of the error bars!) Another way to express our result would be to say that our $68\\%$ credible region spans the range $x\\approx 2.9$ to $x \\approx 5.5$."
   ]
  },
  {
   "cell_type": "markdown",
   "metadata": {},
   "source": [
    "__Exercise__: Write a function that takes in your posterior distribution for $b$ from above, and returns the $n\\%$ credible region (e.g., $68\\%$, $95\\%$ etc.)"
   ]
  },
  {
   "cell_type": "code",
   "execution_count": 64,
   "metadata": {},
   "outputs": [
    {
     "name": "stdout",
     "output_type": "stream",
     "text": [
      "0.99999 % confidence region centred on 0.136 spans from 0.103 to 0.174\n",
      "(1000,)\n",
      "(1000,)\n"
     ]
    }
   ],
   "source": [
    "# Your code here\n",
    "def get_n_credible_region(b_vals, posterior_pmf, n, renormalize_switch):\n",
    "    \"\"\"\n",
    "    Take in a posterior distribution for b and return a specified n% credible region.\n",
    "    Can renormalize the distribution if necessary\n",
    "    \"\"\"\n",
    "    \n",
    "    #Get the upper and lower bounds of the n% credible region\n",
    "    P_max = 0.5 + n/2\n",
    "    P_min = 0.5 - n/2\n",
    "    P_median = 0.5\n",
    "    \n",
    "    #Add up the cumulative probability and find the b_vals that correspond to the specified bounds & median\n",
    "    min_found = False\n",
    "    max_found = False\n",
    "    median_found = False\n",
    "    cumulative_prob = 0\n",
    "    dx = b_vals[2]-b_vals[1]\n",
    "    \n",
    "    if renormalize_switch:\n",
    "        #Get the cumulative probability at each point and handle renormalization\n",
    "        cumulative_prob_list = np.zeros(len(posterior_pmf))\n",
    "        for i in range(len(posterior_pmf)):\n",
    "            p = posterior_pmf[i]\n",
    "            cumulative_prob += p*dx #need to sum the area under curve, multiply by dx every time\n",
    "            cumulative_prob_list[i] = cumulative_prob\n",
    "\n",
    "        cumulative_renormalized = cumulative_prob_list/max(cumulative_prob_list)\n",
    "\n",
    "        for i in range(len(posterior_pmf)):\n",
    "            c_prob = cumulative_renormalized[i]\n",
    "\n",
    "            if (c_prob>P_min) and not min_found:\n",
    "                b_min = b_vals[i]\n",
    "                min_found = True\n",
    "                #print('min found')\n",
    "\n",
    "            if (c_prob>P_median) and not median_found:\n",
    "                b_median = b_vals[i]\n",
    "                median_found = True\n",
    "                #print('med found')\n",
    "\n",
    "            if (c_prob>P_max) and not max_found:\n",
    "                b_max = b_vals[i]\n",
    "                max_found = True\n",
    "                #print('max found')\n",
    "    else:    \n",
    "        for i in range(len(posterior_pmf)):\n",
    "            p = posterior_pmf[i]\n",
    "            cumulative_prob += p*dx #need to sum the area under curve, multiply by dx every time\n",
    "\n",
    "            if (cumulative_prob>P_min) and not min_found:\n",
    "                b_min = b_vals[i]\n",
    "                min_found = True\n",
    "                #print('min found')\n",
    "\n",
    "            if (cumulative_prob>P_median) and not median_found:\n",
    "                b_median = b_vals[i]\n",
    "                median_found = True\n",
    "                #print('med found')\n",
    "\n",
    "            if (cumulative_prob>P_max) and not max_found:\n",
    "                b_max = b_vals[i]\n",
    "                max_found = True\n",
    "                #print('max found')\n",
    "    \n",
    "    print(n,'% confidence region centred on',round(b_median,3),'spans from',round(b_min,3),'to',round(b_max,3))\n",
    "    \n",
    "    return b_median, b_min, b_max\n",
    "            \n",
    "n = 0.99999\n",
    "renormalize_switch = False\n",
    "b_median, b_min, b_max = get_n_credible_region(b_vals_K, P_posterior_pmf_K, n, renormalize_switch)\n",
    "print(b_vals_K.shape)\n",
    "print(P_posterior_pmf_K.shape)"
   ]
  },
  {
   "cell_type": "markdown",
   "metadata": {},
   "source": [
    "__Question__: To what level of credibility (e.g., $68\\%$? $95\\%$?) can you rule out the possibility that your packet of M&Ms came from a different factory to your \"best guess\"?"
   ]
  },
  {
   "cell_type": "markdown",
   "metadata": {},
   "source": [
    "## Your answer here\n",
    "We can rule it out to >99.999% probability :("
   ]
  },
  {
   "cell_type": "markdown",
   "metadata": {},
   "source": [
    "## A Radioactive Source\n",
    "(This problem is adapted from an example from Information Theory, Inference, and Learning Alogrithms by MacKay)"
   ]
  },
  {
   "cell_type": "markdown",
   "metadata": {},
   "source": [
    "Consider the experimental setup depicted below:\n",
    "\n",
    "<div>\n",
    "<img src=\"images/radioactivity.png\" width=\"400\">\n",
    "</div>\n",
    "\n",
    "Unstable radioactive particles are emitted from a source and decay at a distance $x$, a real number that has an exponential probability distribution with characteristic length $\\lambda$, i.e., $p(x|\\lambda) \\propto \\exp( - x / \\lambda)$. Decay events can be observed only if they occur in a window extending from $x=1\\,\\textrm{cm}$ to $x=20\\,\\textrm{cm}$. Decays are observed at $x_1$, $x_2$, $\\dots$, $x_N$. The values of these data points are stored in a file called ``radioactive.dat``"
   ]
  },
  {
   "cell_type": "markdown",
   "metadata": {},
   "source": [
    "Our goal is to use Bayesian inference to figure out what $\\lambda$ is. In other words, we would like to find the posterior distribution $p(\\lambda | x_1, x_2, \\dots, x_N)$. Bayes' theorem tells us that\n",
    "\n",
    "\\begin{equation}\n",
    "p(\\lambda | x_1, x_2, \\dots, x_N) \\propto p( x_1, x_2, \\dots, x_N | \\lambda ) p (\\lambda)\n",
    "\\end{equation}"
   ]
  },
  {
   "cell_type": "markdown",
   "metadata": {},
   "source": [
    "As with so many Bayesian inference problems, the hardest part is figuring out how to write down the likelihood function $p( x_1, x_2, \\dots, x_N | \\lambda )$. Since the radioactive decays are independent of one another, we can write\n",
    "\n",
    "\\begin{equation}\n",
    "p( x_1, x_2, \\dots, x_N | \\lambda ) = p( x_1| \\lambda )p( x_2| \\lambda )\\dots p( x_N| \\lambda )\n",
    "\\end{equation}"
   ]
  },
  {
   "cell_type": "markdown",
   "metadata": {},
   "source": [
    "__Exercise__: Write down $p(x|\\lambda)$, taking care to make sure that it is a properly normalized probability distribution in $x$. (Recall that we only observe the particles if $x$ is between $1\\,\\textrm{cm}$ and $20\\,\\textrm{cm}$)."
   ]
  },
  {
   "cell_type": "markdown",
   "metadata": {},
   "source": [
    "## Your answer here. This is all algebra, no coding required!\n",
    "$p(x|\\lambda) = \\frac{1}{A}e^{(\\frac{-x}{\\lambda})}\n",
    "\\;\\text{where A}\\, = \\lambda*e^{(\\frac{-20}{\\lambda})}*(e^{(\\frac{19}{\\lambda})}-1)$\n",
    "\n"
   ]
  },
  {
   "cell_type": "markdown",
   "metadata": {},
   "source": [
    "__Exercise__: Assuming a uniform prior for $\\lambda$, write some code to generate posterior distributions for $\\lambda$. Make your code flexible enough that you can vary $N$, the number of data points that you read in from ``radioactive.dat``. Plot a series of posterior curves that show how one's knowledge of $\\lambda$ improves as more and more data are taken.\n",
    "\n",
    "(Note 1: ``lambda`` functions are [a thing in Python](https://www.w3schools.com/python/python_lambda.asp). To avoid confusion, it might be good to avoid giving $\\lambda$ the variable name ``lambda`` in your code)\n",
    "\n",
    "(Note 2: Your code may take a few minutes to run. This is normal. There are a lot of exponentials to evaluate, and exponentiating numbers is a fairly slow operation)."
   ]
  },
  {
   "cell_type": "code",
   "execution_count": 40,
   "metadata": {},
   "outputs": [
    {
     "data": {
      "image/png": "[encoded data removed]",
      "text/plain": [
       "<Figure size 432x288 with 1 Axes>"
      ]
     },
     "metadata": {
      "needs_background": "light"
     },
     "output_type": "display_data"
    }
   ],
   "source": [
    "## Your code and plots here\n",
    "import pandas as pd\n",
    "\n",
    "def normalization(Prob,lambda_vals):\n",
    "    dx= lambda_vals[2]-lambda_vals[1]\n",
    "    #num_rectangles = len(lambda_vals)-1\n",
    "    norm = sum(Prob*dx)\n",
    "    return (Prob/norm)\n",
    "\n",
    "# prior: take L. output uniform pdf\n",
    "def prior(lambda_vals):\n",
    "    P = [1/len(lambda_vals)]*len(lambda_vals)\n",
    "    return np.array(P)\n",
    "    \n",
    "\n",
    "#likelihood_single: take x, L_guess. output p(x|L) defined in comments above\n",
    "def likelihood_single(x, lamdba_vals):\n",
    "    \n",
    "    p_likelihood_norm = np.exp(-20/lamdba_vals)*(np.exp(19/lamdba_vals)-1)*lamdba_vals\n",
    "    p_likelihood = (np.exp(-x/lamdba_vals))/p_likelihood_norm\n",
    "    return np.array(p_likelihood)\n",
    "\n",
    "#likelihood_tot: take x_arr, L_guess. Output p(x1,x2,...|L_guess) = likelihood_single(x1,L_guess)*likelihood_single(x2,L_guess)*...\n",
    "def likelihood_tot(x_arr, lamdba_vals):\n",
    "    \n",
    "    likelihood_tot = 1\n",
    "    for x in x_arr:\n",
    "        likelihood_single_x = likelihood_single(x, lamdba_vals)\n",
    "        #Multiply all of the likelihoods together\n",
    "        likelihood_tot = likelihood_tot*likelihood_single_x\n",
    "    \n",
    "    return np.array(likelihood_tot)\n",
    "\n",
    "def posterior_normalized(x_arr, prior_func,lambda_vals):\n",
    "    p_likelihood = likelihood_tot(x_arr, lambda_vals) #already normalized\n",
    "    \n",
    "    p_prior = prior(lambda_vals)\n",
    "    p_prior = normalization(p_prior,lambda_vals) #normalize prior\n",
    "    \n",
    "    #posterior = p_likelihood*p_prior # will result in a normalized posterior\n",
    "    plt.plot(lambda_vals,p_likelihood)\n",
    "    return posterior\n",
    "\n",
    "def radioactive_posterior(N, plot_switch, prior_func,lambda_vals):\n",
    "    \n",
    "    x_arr = pd.read_table(\"radioactive.dat\", header=None).to_numpy()[0:N,0]\n",
    "    \n",
    "    P_posterior = posterior_normalized(x_arr, prior_func, lambda_vals)\n",
    "    \n",
    "    if plot_switch:\n",
    "        label_str = 'N = ' + str(N)\n",
    "        #plt.plot(lambda_vals,P_posterior, label=label_str)\n",
    "    \n",
    "    return P_posterior\n",
    "\n",
    "N_max = 99\n",
    "N_vals = np.linspace(1,N_max, N_max)\n",
    "lambda_vals =np.linspace(1,20,100)\n",
    "plot_switch = False\n",
    "prior_func='uniform'\n",
    "array = [1,2,3,4,5,10,40,99]\n",
    "\n",
    "for n in array:\n",
    "    P_posterior = radioactive_posterior(n, plot_switch, prior_func,lambda_vals)\n",
    "\n",
    "plt.xlabel('$\\lambda$')\n",
    "plt.ylabel('Probability Density')\n",
    "#plt.legend()\n",
    "plt.ylim(0,0.00004)\n",
    "plt.show()"
   ]
  },
  {
   "cell_type": "code",
   "execution_count": null,
   "metadata": {},
   "outputs": [],
   "source": []
  },
  {
   "cell_type": "code",
   "execution_count": 19,
   "metadata": {},
   "outputs": [
    {
     "name": "stdout",
     "output_type": "stream",
     "text": [
      "[ 1.22905887  1.50020341 12.8836852   5.27753359  4.00321877]\n",
      "(5,)\n"
     ]
    }
   ],
   "source": [
    "N= 5\n",
    "x_df = pd.read_table(\"radioactive.dat\", header=None).to_numpy()[0:N,0]\n",
    "print(x_df)\n",
    "print(x_df.shape)"
   ]
  },
  {
   "cell_type": "markdown",
   "metadata": {},
   "source": [
    "__Exercise__: What is your $95\\%$ credible region for $\\lambda$ after 3 measurements (i.e., using $3$ values of $x$)? After $10$? After $50$? After $99$?"
   ]
  },
  {
   "cell_type": "code",
   "execution_count": 66,
   "metadata": {},
   "outputs": [
    {
     "name": "stdout",
     "output_type": "stream",
     "text": [
      "After 3 measurements:\n"
     ]
    },
    {
     "ename": "UnboundLocalError",
     "evalue": "local variable 'b_median' referenced before assignment",
     "output_type": "error",
     "traceback": [
      "\u001b[0;31m---------------------------------------------------------------------------\u001b[0m",
      "\u001b[0;31mUnboundLocalError\u001b[0m                         Traceback (most recent call last)",
      "\u001b[0;32m<ipython-input-66-57cbb8f5eb4b>\u001b[0m in \u001b[0;36m<module>\u001b[0;34m\u001b[0m\n\u001b[1;32m     14\u001b[0m     \u001b[0mP_posterior\u001b[0m \u001b[0;34m=\u001b[0m \u001b[0mradioactive_posterior\u001b[0m\u001b[0;34m(\u001b[0m\u001b[0mn\u001b[0m\u001b[0;34m,\u001b[0m \u001b[0mplot_switch\u001b[0m\u001b[0;34m,\u001b[0m \u001b[0mprior_func\u001b[0m\u001b[0;34m,\u001b[0m\u001b[0mlambda_vals\u001b[0m\u001b[0;34m)\u001b[0m\u001b[0;34m\u001b[0m\u001b[0;34m\u001b[0m\u001b[0m\n\u001b[1;32m     15\u001b[0m     \u001b[0;31m#Get the 95% credible region for the posterior at this sample size\u001b[0m\u001b[0;34m\u001b[0m\u001b[0;34m\u001b[0m\u001b[0;34m\u001b[0m\u001b[0m\n\u001b[0;32m---> 16\u001b[0;31m     \u001b[0mlambda_median\u001b[0m\u001b[0;34m,\u001b[0m \u001b[0mlambda_min\u001b[0m\u001b[0;34m,\u001b[0m \u001b[0mlambda_max\u001b[0m \u001b[0;34m=\u001b[0m \u001b[0mget_n_credible_region\u001b[0m\u001b[0;34m(\u001b[0m\u001b[0mlambda_vals\u001b[0m\u001b[0;34m,\u001b[0m \u001b[0mP_posterior\u001b[0m\u001b[0;34m,\u001b[0m \u001b[0mn_credible\u001b[0m\u001b[0;34m,\u001b[0m \u001b[0mrenormalize_switch\u001b[0m\u001b[0;34m)\u001b[0m\u001b[0;34m\u001b[0m\u001b[0;34m\u001b[0m\u001b[0m\n\u001b[0m",
      "\u001b[0;32m<ipython-input-64-94b7699b6ef3>\u001b[0m in \u001b[0;36mget_n_credible_region\u001b[0;34m(b_vals, posterior_pmf, n, renormalize_switch)\u001b[0m\n\u001b[1;32m     65\u001b[0m                 \u001b[0;31m#print('max found')\u001b[0m\u001b[0;34m\u001b[0m\u001b[0;34m\u001b[0m\u001b[0;34m\u001b[0m\u001b[0m\n\u001b[1;32m     66\u001b[0m \u001b[0;34m\u001b[0m\u001b[0m\n\u001b[0;32m---> 67\u001b[0;31m     \u001b[0mprint\u001b[0m\u001b[0;34m(\u001b[0m\u001b[0mn\u001b[0m\u001b[0;34m,\u001b[0m\u001b[0;34m'% confidence region centred on'\u001b[0m\u001b[0;34m,\u001b[0m\u001b[0mround\u001b[0m\u001b[0;34m(\u001b[0m\u001b[0mb_median\u001b[0m\u001b[0;34m,\u001b[0m\u001b[0;36m3\u001b[0m\u001b[0;34m)\u001b[0m\u001b[0;34m,\u001b[0m\u001b[0;34m'spans from'\u001b[0m\u001b[0;34m,\u001b[0m\u001b[0mround\u001b[0m\u001b[0;34m(\u001b[0m\u001b[0mb_min\u001b[0m\u001b[0;34m,\u001b[0m\u001b[0;36m3\u001b[0m\u001b[0;34m)\u001b[0m\u001b[0;34m,\u001b[0m\u001b[0;34m'to'\u001b[0m\u001b[0;34m,\u001b[0m\u001b[0mround\u001b[0m\u001b[0;34m(\u001b[0m\u001b[0mb_max\u001b[0m\u001b[0;34m,\u001b[0m\u001b[0;36m3\u001b[0m\u001b[0;34m)\u001b[0m\u001b[0;34m)\u001b[0m\u001b[0;34m\u001b[0m\u001b[0;34m\u001b[0m\u001b[0m\n\u001b[0m\u001b[1;32m     68\u001b[0m \u001b[0;34m\u001b[0m\u001b[0m\n\u001b[1;32m     69\u001b[0m     \u001b[0;32mreturn\u001b[0m \u001b[0mb_median\u001b[0m\u001b[0;34m,\u001b[0m \u001b[0mb_min\u001b[0m\u001b[0;34m,\u001b[0m \u001b[0mb_max\u001b[0m\u001b[0;34m\u001b[0m\u001b[0;34m\u001b[0m\u001b[0m\n",
      "\u001b[0;31mUnboundLocalError\u001b[0m: local variable 'b_median' referenced before assignment"
     ]
    },
    {
     "data": {
      "image/png": "[encoded data removed]",
      "text/plain": [
       "<Figure size 432x288 with 1 Axes>"
      ]
     },
     "metadata": {
      "needs_background": "light"
     },
     "output_type": "display_data"
    }
   ],
   "source": [
    "## Your code and answers here\n",
    "N_max = 99\n",
    "N_vals = np.linspace(1,N_max, N_max)\n",
    "lambda_vals =np.linspace(1,20,10)\n",
    "plot_switch = False\n",
    "renormalize_switch = True\n",
    "prior_func='uniform'\n",
    "array = [3,10,50,99]\n",
    "\n",
    "n_credible = 0.95\n",
    "for n in array:\n",
    "    print('After', n, 'measurements:')\n",
    "    #Get the posterior given a sample size\n",
    "    P_posterior = radioactive_posterior(n, plot_switch, prior_func,lambda_vals)\n",
    "    #Get the 95% credible region for the posterior at this sample size\n",
    "    lambda_median, lambda_min, lambda_max = get_n_credible_region(lambda_vals, P_posterior, n_credible, renormalize_switch)"
   ]
  },
  {
   "cell_type": "markdown",
   "metadata": {},
   "source": [
    "## Submitting your work"
   ]
  },
  {
   "cell_type": "markdown",
   "metadata": {},
   "source": [
    "Don't forget to push a copy of your completed notebook to your Github repo for marking!"
   ]
  },
  {
   "cell_type": "code",
   "execution_count": null,
   "metadata": {},
   "outputs": [],
   "source": []
  }
 ],
 "metadata": {
  "kernelspec": {
   "display_name": "Python 3",
   "language": "python",
   "name": "python3"
  },
  "language_info": {
   "codemirror_mode": {
    "name": "ipython",
    "version": 3
   },
   "file_extension": ".py",
   "mimetype": "text/x-python",
   "name": "python",
   "nbconvert_exporter": "python",
   "pygments_lexer": "ipython3",
   "version": "3.7.3"
  }
 },
 "nbformat": 4,
 "nbformat_minor": 4
}
