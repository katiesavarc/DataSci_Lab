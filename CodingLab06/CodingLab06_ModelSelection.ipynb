{
 "cells": [
  {
   "cell_type": "markdown",
   "metadata": {},
   "source": [
    "# PHYS 321 Coding Lab #6: Bayesian Model Selection with the Hulse-Taylor Binary"
   ]
  },
  {
   "cell_type": "markdown",
   "metadata": {},
   "source": [
    "In this Coding Lab, we use data from the Hulse-Taylor binary system to get more familiar with the concepts of marginalization and Bayesian model selection."
   ]
  },
  {
   "cell_type": "code",
   "execution_count": 269,
   "metadata": {},
   "outputs": [],
   "source": [
    "import numpy as np"
   ]
  },
  {
   "cell_type": "markdown",
   "metadata": {},
   "source": [
    "## Background"
   ]
  },
  {
   "cell_type": "markdown",
   "metadata": {},
   "source": [
    "Recall that the Hulse-Taylor binary system is a binary system consisting of two neutron stars, one of which is a pulsar:\n",
    "\n",
    "<div>\n",
    "<img src=\"images/binpulse.gif\" width=\"400\">\n",
    "</div>\n",
    "\n",
    "As the pulsar rotates about its own axis, radio emission is emitted in beams, and when these beams intersect the Earth, we get a brief \"pulse\" at our radio telescope. The extreme regularity of these pulses means that pulsars function as extremely good clocks. This makes the binary system a great laboratory for relativity. In relativity we often think about how hypothetical clocks behave; with a pulsar, Nature has provided us with an actual clock that has regular \"ticks\" (the pulses) that we can measure!"
   ]
  },
  {
   "cell_type": "markdown",
   "metadata": {},
   "source": [
    "In particular, General Relativity (GR) predicts that under the right conditions, accelerating masses emit gravtiational waves. This is analogous to the way in which accelerating electric charges emit electromagnetic waves. (One just needs to be careful about what the \"right conditions\" are. In electromagnetism, we require a time-dependent [dipole moment](https://en.wikipedia.org/wiki/Dipole) of electric charges to produce electromagnetic radiation. In GR, we require a time-dependent [quadrupole moment](https://en.wikipedia.org/wiki/Quadrupole) of masses to produce gravtiational radiation).\n",
    "\n",
    "A binary system like the Hulse-Taylor binary slowly loses energy by emitting it in the form of gravitational waves. As this happens, the two neutron stars come closer and closer. But this also implies (via Kepler's 3rd Law) that the period of the orbit decreases over time. GR predicts that the period of the binary $P_b$ changes at the rate\n",
    "\n",
    "\\begin{equation}\n",
    "\\dot{P}_b = - \\frac{192 \\pi G^{\\frac{5}{3}}}{5 c^5} \\left( \\frac{P_b}{2\\pi}\\right)^{\\frac{5}{3}} \\left( 1+ \\frac{73}{24} e^2 + \\frac{37}{96} e^4 \\right) \\left(1-e^2 \\right)^{-\\frac{7}{2}} \\frac{m_p m_c}{(m_p+m_c)^{-1/3}}\n",
    "\\end{equation}\n",
    "\n",
    "where $m_p$ is the mass of the pulsar, $m_c$ is the mass of the companion, and $e$ is the [eccentricity](https://en.wikipedia.org/wiki/Eccentricity_(mathematics)) of the orbit (which quantifies how elliptical the orbit is).\n",
    "\n",
    "This quantity is tiny. Plugging in some recent values on the right hand side of this equation gives:\n",
    "\n",
    "\\begin{equation}\n",
    "\\dot{P}_b = -2.402531 \\pm 0.000014 \\times 10^{-12}\n",
    "\\end{equation}\n",
    "\n",
    "Despite how tiny this effect is, pulsar observations are so precise that this is easily measurable!"
   ]
  },
  {
   "cell_type": "markdown",
   "metadata": {},
   "source": [
    "Here's one view of the results, taken from [Weisberg, Nice, Taylor (2010)](https://iopscience.iop.org/article/10.1088/0004-637X/722/2/1030). What's shown here is what's called the \"cumulative shift of periastron time\". The periastron of the binary orbit is the point of the orbit where the two stars are the closest together. Because of the decay of the orbit from gravitational wave emission, the orbit reaches periastron earlier and earlier with every orbit. Over time, this effect accumulates compared to if there wasn't any gravitational wave emission, and that's what the plot shows:\n",
    "\n",
    "\n",
    "<div>\n",
    "<img src=\"images/HT.png\" width=\"400\">\n",
    "</div>\n",
    "\n",
    "One of the remarkable things here is that the solid line labelled \"General Relativity prediction\" is __not__ a direct fit to the points on this plot. Instead, Hulse and Taylor used the detailed pulsar observations to work out things like $m_p$, $m_c$, and $e$, and plugged those numbers into the GR formulae and predicted the curve. Amazing how perfectly GR passes this experimental test! Prior to LIGO's results, the Hulse-Taylor binary was our best evidence for the existence of gravitational waves."
   ]
  },
  {
   "cell_type": "markdown",
   "metadata": {},
   "source": [
    "## Fitting the data and model selection"
   ]
  },
  {
   "cell_type": "markdown",
   "metadata": {},
   "source": [
    "We're going to do things a little bit differently than the way Weisberg, Nice, and Taylor did. We're going to do a Bayesian fit to the plot above. In the repo you will find ``HT.dat``, where we have the data points from the plot. The first column contains the year, the second the values on the vertical axis, and the third column contains the error bars"
   ]
  },
  {
   "cell_type": "markdown",
   "metadata": {},
   "source": [
    "__Exercise__: Write some code to read in the data. Recenter the time coordinates assuming that observations started in $1973$ (i.e., make it so that if there were a datapoint at $1973$, our data would call that $t=0$). Convert all the times into sidereal days. (There are $366.242$ sidereal days per solar year, and there are $86164.1$ seconds in a sidereal day)."
   ]
  },
  {
   "cell_type": "markdown",
   "metadata": {},
   "source": [
    "What I'd like you to do is to put all of this (the reading in of the data and the conversions) into a function that lives in `tools.py`. Then, you can import the function by running the lines below."
   ]
  },
  {
   "cell_type": "code",
   "execution_count": 270,
   "metadata": {},
   "outputs": [
    {
     "name": "stdout",
     "output_type": "stream",
     "text": [
      "The autoreload extension is already loaded. To reload it, use:\n",
      "  %reload_ext autoreload\n"
     ]
    }
   ],
   "source": [
    "import tools\n",
    "# These two lines tell your Jupyter notebook to reload\n",
    "# external modules/functions if they have been modified\n",
    "# This way you don't have to quit your kernel and import\n",
    "# everything again whenever you make a change!\n",
    "%load_ext autoreload\n",
    "%autoreload 2"
   ]
  },
  {
   "cell_type": "code",
   "execution_count": 271,
   "metadata": {},
   "outputs": [],
   "source": [
    "time, s, err = tools.load_dat(\"HT.dat\")\n",
    "seconds = 86164.1\n",
    "s = s/seconds\n",
    "err = err/seconds"
   ]
  },
  {
   "cell_type": "markdown",
   "metadata": {},
   "source": [
    "__Exercise:__ Write two unit tests for your function! You're welcome to create a new data file with fake data (perhaps calling it `test_data.dat` or something) to help you with this. We'll look in `test_tools.py` for your testing code, but write a brief couple of sentences below describing what your tests are meant to do."
   ]
  },
  {
   "cell_type": "markdown",
   "metadata": {},
   "source": [
    "**The fist test test_load_dat_equal_length, makes sure that all arrays are equal in length. The second test, test_load_dat_tzero, checks if the first element in the time array is equal to zero. The last test, test_load_dat_nonzero_length, checks that the arrays returned have non-zero length.**"
   ]
  },
  {
   "cell_type": "markdown",
   "metadata": {},
   "source": [
    "(You may be alarmed that some of the errors seem to be negative! They're not really negative. I'll explain a little later)"
   ]
  },
  {
   "cell_type": "markdown",
   "metadata": {},
   "source": [
    "Let $d(t)$ be the cumulative shift of the periastron time. We'll consider two different models:\n",
    "\n",
    "\\begin{eqnarray}\n",
    "\\mathcal{M}_1: && d(t) = \\alpha t \\\\\n",
    "\\mathcal{M}_2: && d(t) = \\alpha t + \\beta t^2\n",
    "\\end{eqnarray}\n",
    "\n",
    "Our goal will be to fit the data using these two models, and then to compute the Bayesian evidence in order to decide which model is appropriate for the data."
   ]
  },
  {
   "cell_type": "markdown",
   "metadata": {},
   "source": [
    "As always, our starting point is Bayes' theorem. In this context, we have\n",
    "\n",
    "\\begin{equation}\n",
    "p \\left(\\alpha | \\mathbf{d}, \\mathcal{M}_1 \\right) = \\frac{p(\\mathbf{d}|\\alpha, \\mathcal{M}_1  )p(\\alpha| \\mathcal{M}_1 )}{p(\\mathbf{d}| \\mathcal{M}_1)}\n",
    "\\end{equation}\n",
    "and\n",
    "\\begin{equation}\n",
    "p \\left(\\alpha, \\beta | \\mathbf{d}, \\mathcal{M}_2 \\right) = \\frac{p(\\mathbf{d}|\\alpha, \\beta, \\mathcal{M}_2  )p(\\alpha, \\beta| \\mathcal{M}_2 )}{p(\\mathbf{d}| \\mathcal{M}_2)}\n",
    "\\end{equation}\n",
    "\n",
    "where for notational brevity, I have defined a data vector $\\mathbf{d} \\equiv \\left[ d(t_1), d(t_2), \\dots \\right]$. Working out these posterior probability distributions is equivalent to fitting the data, because once we have the posteriors, we know what the data is telling us about the parameters in the two equations."
   ]
  },
  {
   "cell_type": "markdown",
   "metadata": {},
   "source": [
    "From lecture, we know that the key to model selection is to compare the evidences of the two models, i.e., $p(\\mathbf{d} | \\mathcal{M}_1)$ and $p(\\mathbf{d} | \\mathcal{M}_2)$. In particular, the ratio of the probabilities of the different models being correct (given the data) is given by\n",
    "\n",
    "\\begin{equation}\n",
    "\\frac{p(\\mathcal{M}_1 | \\mathbf{d})}{p(\\mathcal{M}_2 | \\mathbf{d})} = \\frac{p(\\mathbf{d} | \\mathcal{M}_1)}{p(\\mathbf{d} | \\mathcal{M}_2)} \\frac{p(\\mathcal{M}_1 )}{p(\\mathcal{M}_2 )},\n",
    "\\end{equation}\n",
    "so as long as we don't have any theoretical reasons to favour one model over the other (i.e., the second ratio on the right hand side is one), the ratio of the evidences is what we need to compute.\n",
    "\n",
    "If we look back at Bayes' theorem, we see that the functional dependence of the posterior on our model parameters (i.e., $\\alpha$ and $\\beta$) resides entirely in the numerators. The evidence is therefore just the normalization factor for our posterior, so we can compute it by integrating:\n",
    "\n",
    "\\begin{eqnarray}\n",
    "p(\\mathbf{d} | \\mathcal{M}_1) &=& \\int p(\\mathbf{d}|\\alpha, \\mathcal{M}_1  )p(\\alpha| \\mathcal{M}_1 ) d\\alpha  \\\\\n",
    "p(\\mathbf{d} | \\mathcal{M}_2) &=& \\int p(\\mathbf{d}|\\alpha, \\beta, \\mathcal{M}_2  )p(\\alpha, \\beta| \\mathcal{M}_2 ) d\\alpha d\\beta\n",
    "\\end{eqnarray}"
   ]
  },
  {
   "cell_type": "markdown",
   "metadata": {},
   "source": [
    "### Fitting the data"
   ]
  },
  {
   "cell_type": "markdown",
   "metadata": {},
   "source": [
    "First, though, we need to fit the data. And to do that, we need to decide on what our likelihood is going to look like. We'll assume that the measurement errors are independent. This means that the probability distribution of all the data points is equal to the product of the individual data points:\n",
    "\n",
    "\\begin{equation}\n",
    "p(\\mathbf{d} | \\alpha, \\mathcal{M}_1) = \\prod_i p(d(t_i) | \\alpha, \\mathcal{M}_1) \n",
    "\\end{equation}\n",
    "\n",
    "(Henceforth I will just write out the equations for $\\mathcal{M}_1$, the idea being that you can generalize to $\\mathcal{M}_2$ on your own).\n",
    "\n",
    "Next, we need to write down the likelihood function for an individual data point, $p(d(t_i) | \\alpha, \\mathcal{M}_1)$. Let's assume that the measurement errors are Gaussian. This means\n",
    "\n",
    "\\begin{equation}\n",
    "p(d(t_i) | \\alpha, \\mathcal{M}_1) = \\frac{1}{\\sqrt{2 \\pi \\sigma_i^2}} \\exp\\left[-\\frac{\\left[d(t_i) - d_{\\mathcal{M}_1}(\\alpha, t_i)\\right]^2}{2 \\sigma_i^2}\\right],\n",
    "\\end{equation}\n",
    "\n",
    "where $d_{\\mathcal{M}_1}(\\alpha, t) = \\alpha t$ as per our $\\mathcal{M}_1$ model. The quantity $\\sigma_i$ is the error bar on the data point at time $t_i$.\n",
    "\n",
    "But here, we run into a problem! If you look at the data, you'll see that we have error bars only on the first $10$ data points. After that, the \"errors\" are negative, which is just my way of indicating to you that we don't have those error bars. What should we do? It turns out, amazingly, that as long as we make some assumptions, we can also fit for these errors using the data!"
   ]
  },
  {
   "cell_type": "markdown",
   "metadata": {},
   "source": [
    "In this case, the assumption that we will make is that the rest of the data points have some sort of fixed percentage error. That is, for data points where we don't have documented errors, we model the errors as\n",
    "\n",
    "\\begin{equation}\n",
    "\\sigma_i^\\textrm{missing} = 10^\\varepsilon \\times d_{\\mathcal{M}_1}(\\alpha, t_i),\n",
    "\\end{equation}\n",
    "\n",
    "where $\\varepsilon$ is a parameter that controls the order of magnitude of our percentage error. For example, if $\\varepsilon = -1$, then we are assigning $10\\%$ errors to our data points. What value do we use for $\\varepsilon$? The beauty of this is that we don't have to decide! We can introduce it as a new parameter in our model; it is an example of a __*nuisance*__ parameter that is necessary for us to fit the data, but isn't of ultimate scientific interest. Our likelihood function now looks like:\n",
    "\n",
    "\\begin{equation}\n",
    "p(\\mathbf{d} | \\alpha, \\varepsilon, \\mathcal{M}_1) = \\left( \\prod_{i=1}^{10} \\frac{\\exp\\left[-\\frac{\\left[d(t_i) - d_{\\mathcal{M}_1}(\\alpha, t_i)\\right]^2}{2 \\sigma_i^2}\\right]}{\\sqrt{2 \\pi \\sigma_i^2}}  \\right) \\left( \\prod_{i\\ge 11} \\frac{\\exp\\left[-\\frac{\\left[d(t_i) - d_{\\mathcal{M}_1}(\\alpha, t_i)\\right]^2}{2 \\cdot 10^{2\\varepsilon} [d_{\\mathcal{M}_1}(\\alpha, t_i)]^2}\\right]}{\\sqrt{2 \\pi 10^{2\\varepsilon} [d_{\\mathcal{M}_1}(\\alpha, t_i)]^2} }  \\right),\n",
    "\\end{equation}\n",
    "\n",
    "and our posterior now contains one more parameter than before:\n",
    "\n",
    "\\begin{equation}\n",
    "p \\left(\\alpha, \\varepsilon | \\mathbf{d}, \\mathcal{M}_1 \\right) \\propto p(\\mathbf{d}|\\alpha, \\varepsilon, \\mathcal{M}_1  )p(\\alpha, \\varepsilon| \\mathcal{M}_1 )\n",
    "\\end{equation}"
   ]
  },
  {
   "cell_type": "markdown",
   "metadata": {},
   "source": [
    "__Exercise__: Compute the posteriors for the two models, $p \\left(\\alpha, \\varepsilon | \\mathbf{d}, \\mathcal{M}_1 \\right)$ and $p \\left(\\alpha, \\beta, \\varepsilon | \\mathbf{d}, \\mathcal{M}_2 \\right)$. That is, for $\\mathcal{M}_1$ you should end up with a two-dimensional array (one axis representing $\\alpha$ and the other representing $\\varepsilon$), and for $\\mathcal{M}_2$ you should end up with a three-dimensional array. Use the following priors:\n",
    "\n",
    "For $\\mathcal{M}_1$:\n",
    "* For $\\alpha$, use a uniform prior between $-5 \\times 10^{-8}$ and $- 10^{-11}$\n",
    "* For $\\varepsilon$, use a uniform prior between $-10$ and $1$.\n",
    "\n",
    "\n",
    "For $\\mathcal{M}_2$:\n",
    "* For $\\alpha$, use a uniform prior between $3 \\times 10^{-9}$ and $6 \\times 10^{-9}$\n",
    "* For $\\beta$, use a uniform prior between $-4.25 \\times 10^{-12}$ and $-3 \\times 10^{-12}$\n",
    "* For $\\varepsilon$, use a uniform prior between $-10$ and $1$.\n",
    "\n",
    "Some hints:\n",
    "1. Since the priors are uniform priors, they can be easily implemented by just defining the bounds of your ``np.linspace`` to be the edge of the priors, and then multiplying by an appropriate constant factor to make sure that your priors are properly normalized.\n",
    "2. Try not to use nested loops in coding this up. Refer to the Search & Rescue notebook to see how it is possible to do all of this without any nested loops (i.e., one loop is ok; one loop within another is not advisable).\n",
    "3. Try to factor out things where possible. For example, since the product of two exponentials is equal to the exponential of their sum, it is possible to do this exercise such that ``np.exp`` is used only once for each model. Doing this will considerably speed up your code, because exponentials are expensive to evaluate numerically.\n",
    "4. For debugging purposes, I like to invoke ``np.linspace`` with a different ``num`` argument for each of my axes. That way, it's obvious from looking at the shapes of arrays whether or not two axes have been mixed up."
   ]
  },
  {
   "cell_type": "code",
   "execution_count": 282,
   "metadata": {},
   "outputs": [],
   "source": [
    "def prior_param(param_vals):\n",
    "    P = [1/(max(param_vals)-min(param_vals))]*len(param_vals)\n",
    "    return np.array(P)\n",
    "\n",
    "def model_1(t,alpha):\n",
    "    return alpha*t\n",
    "    \n",
    "def model_2(t,alpha,beta):\n",
    "    x = alpha*t\n",
    "    y = beta*(t**2)\n",
    "    #print(\"t model 2:\",t)\n",
    "    #print(\"model2 x+y values:\",x+y)\n",
    "    return x+y\n"
   ]
  },
  {
   "cell_type": "code",
   "execution_count": null,
   "metadata": {},
   "outputs": [],
   "source": [
    "#functions without factoring of exponential \n",
    "\n",
    "def likelihood_m1(time,s,alpha,epsilon,err):\n",
    "    #data will be length >10\n",
    "    model = 1\n",
    "    \n",
    "    #print(time)\n",
    "    #print(s)\n",
    "    #print(err)\n",
    "    #print(alpha)\n",
    "    #print(epsilon)\n",
    "    \n",
    "    alpha_grid, eps_grid = np.meshgrid(alpha, epsilon)\n",
    "    \n",
    "    sigma = err[0:10]\n",
    "    likelihoodTerm1 = 1\n",
    "    for i in range(len(sigma)):\n",
    "        likelihoodTerm1 = likelihoodTerm1*likelihood_individual_given_error(time[i], s[i], alpha_grid, sigma[i], model,beta=None,)\n",
    "    likelihoodTerm2 = 1\n",
    "    for i in range(len(err)-len(sigma)):\n",
    "        likelihoodTerm2 = likelihoodTerm2*likelihood_individual_not_given_error(time[i+10], s[i+10], alpha_grid,  eps_grid, model,beta=None)\n",
    "    #print(\"term 1 model 1:\",likelihoodTerm1)\n",
    "    #print(\"term 2 model 1:\",likelihoodTerm2)\n",
    "    return likelihoodTerm1*likelihoodTerm2\n",
    "\n",
    "\n",
    "def likelihood_m2(time,s,alpha,beta,epsilon,err):\n",
    "    #data will be length >10\n",
    "    model = 2\n",
    "    \n",
    "    alpha_grid, beta_grid, eps_grid = np.meshgrid(alpha, beta, epsilon)\n",
    "    \n",
    "    sigma = err[0:10]\n",
    "\n",
    "    likelihoodTerm1 = 1\n",
    "    for i in range(len(sigma)):\n",
    "        likelihoodTerm1 = likelihoodTerm1*likelihood_individual_given_error(time[i], s[i], alpha_grid, sigma[i], model, beta=beta_grid)\n",
    "    likelihoodTerm2 = 1\n",
    "    for i in range(len(err)-len(sigma)):\n",
    "        likelihoodTerm2 = likelihoodTerm2*likelihood_individual_not_given_error(time[i], s[i], alpha_grid, eps_grid, model, beta=beta_grid)\n",
    "    print(\"term 1 model 2:\",likelihoodTerm1)\n",
    "    print(\"term 2 model 2:\",likelihoodTerm2)\n",
    "    \n",
    "    return likelihoodTerm1*likelihoodTerm2\n",
    "\n",
    "\n",
    "def likelihood_individual_given_error(time, s, alpha, sigma, model, beta):\n",
    "    if model==1:\n",
    "        #print(sigma)\n",
    "        p = np.exp(-(s - model_1(time,alpha))**2/(2*(sigma**2)))/np.sqrt(2*np.pi*(sigma**2))\n",
    "    elif model==2:\n",
    "        p = np.exp(-(s - model_2(time,alpha,beta))**2/(2*(sigma**2)))/np.sqrt(2*np.pi*(sigma**2))\n",
    "        print(\"first term m2:\",(sigma**2))\n",
    "    return p\n",
    "\n",
    "\n",
    "def likelihood_individual_not_given_error(time, s, alpha, epsilon, model, beta):\n",
    "    if model==1:\n",
    "        sigma = (10**(epsilon))*model_1(time,alpha)\n",
    "        p = np.exp(-(s - model_1(time,alpha))**2/(2*(sigma**2)))/np.sqrt(2*np.pi*(sigma**2))\n",
    "\n",
    "\n",
    "    elif model==2:\n",
    "        sigma = (10**(epsilon))*model_2(time,alpha,beta)\n",
    "        #commented out because t=0 should happen in the given error expression\n",
    "        #if sum(model_2(time,alpha,beta)).any() == 0:\n",
    "            #Catch the error at t=0 which gives sigma=0 and a divide by zero error\n",
    "         #   p = 1\n",
    "        #else:\n",
    "        p = np.exp(-(s - model_2(time,alpha,beta))**2/(2*(sigma**2)))/np.sqrt(2*np.pi*(sigma**2))    \n",
    "        #print(np.exp(-(s - model_2(time,alpha,beta))**2/(2*(sigma**2))))\n",
    "            \n",
    "    #print(\"no error likelihood:\",p)\n",
    "    return p\n",
    "\n",
    "   \n",
    "def posterior_m1(time, s, alpha, epsilon, err):\n",
    "    \n",
    "    p_prior = prior_param(alpha)*prior_param(epsilon)\n",
    "    p_posterior = likelihood_m1(time,s,alpha,epsilon,err)*p_prior\n",
    "    #Normalize\n",
    "    #norm = sum(sum(p_posterior))\n",
    "    d_alpha = alpha[2]-alpha[1]\n",
    "    norm = np.sum(p_posterior)*d_alpha\n",
    "    #p_posterior = p_posterior/norm\n",
    "    return p_posterior, norm\n",
    "\n",
    "\n",
    "def posterior_m2(time, s, alpha, beta, epsilon, err):\n",
    "    \n",
    "    p_prior = prior_param(alpha)*prior_param(beta)*prior_param(epsilon)\n",
    "    p_posterior = likelihood_m2(time,s,alpha,beta,epsilon,err)*p_prior\n",
    "    #Normalize\n",
    "    #norm = sum(sum(sum(p_posterior)))\n",
    "    d_alpha = alpha[2]-alpha[1]\n",
    "    d_beta = beta[2]-beta[1]\n",
    "    norm = np.sum(p_posterior)*d_alpha*d_beta\n",
    "    #p_posterior = p_posterior/norm\n",
    "    return p_posterior, norm"
   ]
  },
  {
   "cell_type": "code",
   "execution_count": 288,
   "metadata": {},
   "outputs": [],
   "source": [
    "#functions factoring the exponential \n",
    "\n",
    "def likelihood(time,s,alpha,beta,epsilon,err,model):\n",
    "    if model==1:\n",
    "        alpha_grid, eps_grid = np.meshgrid(alpha, epsilon)\n",
    "        beta_grid = None\n",
    "    if model==2:\n",
    "        alpha_grid, beta_grid, eps_grid = np.meshgrid(alpha, beta, epsilon)\n",
    "    \n",
    "    sigma = err[0:10]\n",
    "    \n",
    "    likelihoodTerm1 = likelihood_term1(time[0:10], s[0:10], alpha_grid, sigma, model, beta_grid)\n",
    "    print(\"term 1:\",likelihoodTerm1)\n",
    "    likelihoodTerm2 = likelihood_term2(time[10:], s[10:], alpha_grid, eps_grid, model, beta_grid)\n",
    "    print(\"term 2:\",likelihoodTerm2)\n",
    "    p_likelihood = likelihoodTerm1*likelihoodTerm2\n",
    "    return p_likelihood \n",
    "\n",
    "def likelihood_term1(time, s, alpha, sigma, model, beta):\n",
    "    if model==1:\n",
    "        inner_sum = 0\n",
    "        for i in range(len(sigma)):\n",
    "            x = -(s[i]-model_1(time[i],alpha))**2/(2*(sigma[i]**2))\n",
    "            inner_sum = inner_sum+x\n",
    "    if model==2:\n",
    "        inner_sum = 0\n",
    "        for i in range(len(sigma)):\n",
    "            x = -(s[i]-model_2(time[i],alpha,beta))**2/(2*(sigma[i]**2))\n",
    "            inner_sum = inner_sum+x\n",
    "    exp_term = np.exp(inner_sum)\n",
    "    denominator = 1\n",
    "    for i in range(len(sigma)):\n",
    "        denominator = denominator*(np.sqrt(2*np.pi*(sigma[i]**2)))\n",
    "    p = exp_term/denominator\n",
    "    return p\n",
    "\n",
    "def likelihood_term2(time, s, alpha, epsilon, model, beta):\n",
    "    if model==1:\n",
    "        inner_sum = 0\n",
    "        denominator = 1\n",
    "        for i in range(len(time)):\n",
    "            sigma = (10**(epsilon))*model_1(time[i],alpha)\n",
    "            x = -(s[i]-model_1(time[i],alpha))**2/(2*(sigma**2))\n",
    "            inner_sum = inner_sum+x\n",
    "            denominator = denominator*np.sqrt(2*np.pi*(sigma**2))\n",
    "    if model==2:\n",
    "        inner_sum = 0\n",
    "        denominator = 1\n",
    "        for i in range(len(time)):\n",
    "            sigma = (10**(epsilon))*model_2(time[i],alpha,beta)\n",
    "            x = -(s[i]-model_2(time[i],alpha,beta))**2/(2*(sigma**2))\n",
    "            inner_sum = inner_sum+x\n",
    "            denominator = denominator*np.sqrt(2*np.pi*(sigma**2))\n",
    "    exp_term = np.exp(inner_sum)\n",
    "    p = exp_term/denominator\n",
    "    return p \n",
    "\n",
    "def posterior(time, s, alpha, beta, epsilon, err, model):\n",
    "    \n",
    "    if model==1:\n",
    "        p_prior = prior_param(alpha)*prior_param(epsilon)\n",
    "        delta = alpha[2]-alpha[1]\n",
    "    if model ==2:\n",
    "        p_prior = prior_param(alpha)*prior_param(beta)*prior_param(epsilon)\n",
    "        delta = (alpha[2]-alpha[1])*(beta[2]-beta[1])\n",
    "    p_posterior = likelihood(time,s,alpha,beta,epsilon,err,model)*p_prior\n",
    "    #Normalize\n",
    "    \n",
    "    norm = np.sum(p_posterior)*delta\n",
    "    \n",
    "    return p_posterior, norm "
   ]
  },
  {
   "cell_type": "code",
   "execution_count": 289,
   "metadata": {},
   "outputs": [],
   "source": [
    "N=15\n",
    "time[0]=1\n",
    "\n",
    "eps_vals = np.linspace(-10,1,N)\n",
    "\n",
    "#FOR MODEL 1\n",
    "alpha_vals1 = np.linspace(-5*10**(-8),-10**(-11),N)\n",
    "\n",
    "#FOR MODEL 2\n",
    "alpha_vals2 = np.linspace(3*10**(-9),6*10**(-9),N)\n",
    "beta_vals2 = np.linspace(-4.25*10*(-12),-3*10**(-12),N)"
   ]
  },
  {
   "cell_type": "code",
   "execution_count": 290,
   "metadata": {},
   "outputs": [
    {
     "name": "stdout",
     "output_type": "stream",
     "text": [
      "term 1: [[0.00000000e+000 0.00000000e+000 0.00000000e+000 0.00000000e+000\n",
      "  0.00000000e+000 0.00000000e+000 0.00000000e+000 0.00000000e+000\n",
      "  0.00000000e+000 0.00000000e+000 2.05668798e-236 7.50653351e-047\n",
      "  2.18600174e+042 5.07927394e+029 9.41657190e-085]\n",
      " [0.00000000e+000 0.00000000e+000 0.00000000e+000 0.00000000e+000\n",
      "  0.00000000e+000 0.00000000e+000 0.00000000e+000 0.00000000e+000\n",
      "  0.00000000e+000 0.00000000e+000 2.05668798e-236 7.50653351e-047\n",
      "  2.18600174e+042 5.07927394e+029 9.41657190e-085]\n",
      " [0.00000000e+000 0.00000000e+000 0.00000000e+000 0.00000000e+000\n",
      "  0.00000000e+000 0.00000000e+000 0.00000000e+000 0.00000000e+000\n",
      "  0.00000000e+000 0.00000000e+000 2.05668798e-236 7.50653351e-047\n",
      "  2.18600174e+042 5.07927394e+029 9.41657190e-085]\n",
      " [0.00000000e+000 0.00000000e+000 0.00000000e+000 0.00000000e+000\n",
      "  0.00000000e+000 0.00000000e+000 0.00000000e+000 0.00000000e+000\n",
      "  0.00000000e+000 0.00000000e+000 2.05668798e-236 7.50653351e-047\n",
      "  2.18600174e+042 5.07927394e+029 9.41657190e-085]\n",
      " [0.00000000e+000 0.00000000e+000 0.00000000e+000 0.00000000e+000\n",
      "  0.00000000e+000 0.00000000e+000 0.00000000e+000 0.00000000e+000\n",
      "  0.00000000e+000 0.00000000e+000 2.05668798e-236 7.50653351e-047\n",
      "  2.18600174e+042 5.07927394e+029 9.41657190e-085]\n",
      " [0.00000000e+000 0.00000000e+000 0.00000000e+000 0.00000000e+000\n",
      "  0.00000000e+000 0.00000000e+000 0.00000000e+000 0.00000000e+000\n",
      "  0.00000000e+000 0.00000000e+000 2.05668798e-236 7.50653351e-047\n",
      "  2.18600174e+042 5.07927394e+029 9.41657190e-085]\n",
      " [0.00000000e+000 0.00000000e+000 0.00000000e+000 0.00000000e+000\n",
      "  0.00000000e+000 0.00000000e+000 0.00000000e+000 0.00000000e+000\n",
      "  0.00000000e+000 0.00000000e+000 2.05668798e-236 7.50653351e-047\n",
      "  2.18600174e+042 5.07927394e+029 9.41657190e-085]\n",
      " [0.00000000e+000 0.00000000e+000 0.00000000e+000 0.00000000e+000\n",
      "  0.00000000e+000 0.00000000e+000 0.00000000e+000 0.00000000e+000\n",
      "  0.00000000e+000 0.00000000e+000 2.05668798e-236 7.50653351e-047\n",
      "  2.18600174e+042 5.07927394e+029 9.41657190e-085]\n",
      " [0.00000000e+000 0.00000000e+000 0.00000000e+000 0.00000000e+000\n",
      "  0.00000000e+000 0.00000000e+000 0.00000000e+000 0.00000000e+000\n",
      "  0.00000000e+000 0.00000000e+000 2.05668798e-236 7.50653351e-047\n",
      "  2.18600174e+042 5.07927394e+029 9.41657190e-085]\n",
      " [0.00000000e+000 0.00000000e+000 0.00000000e+000 0.00000000e+000\n",
      "  0.00000000e+000 0.00000000e+000 0.00000000e+000 0.00000000e+000\n",
      "  0.00000000e+000 0.00000000e+000 2.05668798e-236 7.50653351e-047\n",
      "  2.18600174e+042 5.07927394e+029 9.41657190e-085]\n",
      " [0.00000000e+000 0.00000000e+000 0.00000000e+000 0.00000000e+000\n",
      "  0.00000000e+000 0.00000000e+000 0.00000000e+000 0.00000000e+000\n",
      "  0.00000000e+000 0.00000000e+000 2.05668798e-236 7.50653351e-047\n",
      "  2.18600174e+042 5.07927394e+029 9.41657190e-085]\n",
      " [0.00000000e+000 0.00000000e+000 0.00000000e+000 0.00000000e+000\n",
      "  0.00000000e+000 0.00000000e+000 0.00000000e+000 0.00000000e+000\n",
      "  0.00000000e+000 0.00000000e+000 2.05668798e-236 7.50653351e-047\n",
      "  2.18600174e+042 5.07927394e+029 9.41657190e-085]\n",
      " [0.00000000e+000 0.00000000e+000 0.00000000e+000 0.00000000e+000\n",
      "  0.00000000e+000 0.00000000e+000 0.00000000e+000 0.00000000e+000\n",
      "  0.00000000e+000 0.00000000e+000 2.05668798e-236 7.50653351e-047\n",
      "  2.18600174e+042 5.07927394e+029 9.41657190e-085]\n",
      " [0.00000000e+000 0.00000000e+000 0.00000000e+000 0.00000000e+000\n",
      "  0.00000000e+000 0.00000000e+000 0.00000000e+000 0.00000000e+000\n",
      "  0.00000000e+000 0.00000000e+000 2.05668798e-236 7.50653351e-047\n",
      "  2.18600174e+042 5.07927394e+029 9.41657190e-085]\n",
      " [0.00000000e+000 0.00000000e+000 0.00000000e+000 0.00000000e+000\n",
      "  0.00000000e+000 0.00000000e+000 0.00000000e+000 0.00000000e+000\n",
      "  0.00000000e+000 0.00000000e+000 2.05668798e-236 7.50653351e-047\n",
      "  2.18600174e+042 5.07927394e+029 9.41657190e-085]]\n",
      "term 2: [[0.00000000e+00 0.00000000e+00 0.00000000e+00 0.00000000e+00\n",
      "  0.00000000e+00 0.00000000e+00 0.00000000e+00 0.00000000e+00\n",
      "  0.00000000e+00 0.00000000e+00 0.00000000e+00 0.00000000e+00\n",
      "  0.00000000e+00 0.00000000e+00 0.00000000e+00]\n",
      " [0.00000000e+00 0.00000000e+00 0.00000000e+00 0.00000000e+00\n",
      "  0.00000000e+00 0.00000000e+00 0.00000000e+00 0.00000000e+00\n",
      "  0.00000000e+00 0.00000000e+00 0.00000000e+00 0.00000000e+00\n",
      "  0.00000000e+00 0.00000000e+00 0.00000000e+00]\n",
      " [0.00000000e+00 0.00000000e+00 0.00000000e+00 0.00000000e+00\n",
      "  0.00000000e+00 0.00000000e+00 0.00000000e+00 0.00000000e+00\n",
      "  0.00000000e+00 0.00000000e+00 0.00000000e+00 0.00000000e+00\n",
      "  0.00000000e+00 0.00000000e+00 0.00000000e+00]\n",
      " [0.00000000e+00 0.00000000e+00 0.00000000e+00 0.00000000e+00\n",
      "  0.00000000e+00 0.00000000e+00 0.00000000e+00 0.00000000e+00\n",
      "  0.00000000e+00 0.00000000e+00 0.00000000e+00 0.00000000e+00\n",
      "  0.00000000e+00 0.00000000e+00 0.00000000e+00]\n",
      " [0.00000000e+00 0.00000000e+00 0.00000000e+00 0.00000000e+00\n",
      "  0.00000000e+00 0.00000000e+00 0.00000000e+00 0.00000000e+00\n",
      "  0.00000000e+00 0.00000000e+00 0.00000000e+00 0.00000000e+00\n",
      "  0.00000000e+00 0.00000000e+00 0.00000000e+00]\n",
      " [0.00000000e+00 0.00000000e+00 0.00000000e+00 0.00000000e+00\n",
      "  0.00000000e+00 0.00000000e+00 0.00000000e+00 0.00000000e+00\n",
      "  0.00000000e+00 0.00000000e+00 0.00000000e+00 0.00000000e+00\n",
      "  0.00000000e+00 0.00000000e+00 0.00000000e+00]\n",
      " [0.00000000e+00 0.00000000e+00 0.00000000e+00 0.00000000e+00\n",
      "  0.00000000e+00 0.00000000e+00 0.00000000e+00 0.00000000e+00\n",
      "  0.00000000e+00 0.00000000e+00 0.00000000e+00 0.00000000e+00\n",
      "  0.00000000e+00 0.00000000e+00 0.00000000e+00]\n",
      " [0.00000000e+00 0.00000000e+00 0.00000000e+00 0.00000000e+00\n",
      "  0.00000000e+00 0.00000000e+00 0.00000000e+00 0.00000000e+00\n",
      "  0.00000000e+00 0.00000000e+00 0.00000000e+00 0.00000000e+00\n",
      "  0.00000000e+00 0.00000000e+00 0.00000000e+00]\n",
      " [0.00000000e+00 0.00000000e+00 0.00000000e+00 0.00000000e+00\n",
      "  0.00000000e+00 0.00000000e+00 0.00000000e+00 0.00000000e+00\n",
      "  0.00000000e+00 0.00000000e+00 0.00000000e+00 0.00000000e+00\n",
      "  0.00000000e+00 0.00000000e+00 0.00000000e+00]\n",
      " [0.00000000e+00 0.00000000e+00 0.00000000e+00 0.00000000e+00\n",
      "  0.00000000e+00 0.00000000e+00 0.00000000e+00 0.00000000e+00\n",
      "  0.00000000e+00 0.00000000e+00 0.00000000e+00 0.00000000e+00\n",
      "  0.00000000e+00 0.00000000e+00 0.00000000e+00]\n",
      " [0.00000000e+00 0.00000000e+00 0.00000000e+00 0.00000000e+00\n",
      "  0.00000000e+00 0.00000000e+00 0.00000000e+00 0.00000000e+00\n",
      "  0.00000000e+00 0.00000000e+00 0.00000000e+00 0.00000000e+00\n",
      "  0.00000000e+00 0.00000000e+00 0.00000000e+00]\n",
      " [0.00000000e+00 0.00000000e+00 0.00000000e+00 0.00000000e+00\n",
      "  0.00000000e+00 0.00000000e+00 0.00000000e+00 0.00000000e+00\n",
      "  0.00000000e+00 0.00000000e+00 0.00000000e+00 0.00000000e+00\n",
      "  0.00000000e+00 0.00000000e+00 0.00000000e+00]\n",
      " [5.46859338e+44 5.57781658e+46 7.30569741e+48 1.15241244e+51\n",
      "  1.89257528e+53 2.38222918e+55 1.21943694e+57 6.67551664e+57\n",
      "  2.04644529e+56 3.08604789e+49 1.39594063e+29 4.62459465e-32\n",
      "  0.00000000e+00 0.00000000e+00 0.00000000e+00]\n",
      " [1.88160775e+50 7.25712166e+50 3.10839122e+51 1.50147890e+52\n",
      "  8.32852669e+52 5.41612492e+53 4.22207197e+54 4.02150735e+55\n",
      "  4.68674771e+56 6.26856888e+57 7.13928214e+58 1.97910756e+59\n",
      "  2.09640860e+56 5.89674770e+22 0.00000000e+00]\n",
      " [2.65612993e+37 9.38268668e+37 3.66647745e+38 1.61293759e+39\n",
      "  8.16946144e+39 4.90673635e+40 3.63666224e+41 3.51575900e+42\n",
      "  4.80523337e+43 1.05009632e+45 4.48579677e+46 5.35824654e+48\n",
      "  3.62331806e+51 4.25815744e+55 0.00000000e+00]]\n",
      "Posterior M1:\n",
      " [[0.00000000e+000 0.00000000e+000 0.00000000e+000 0.00000000e+000\n",
      "  0.00000000e+000 0.00000000e+000 0.00000000e+000 0.00000000e+000\n",
      "  0.00000000e+000 0.00000000e+000 0.00000000e+000 0.00000000e+000\n",
      "  0.00000000e+000 0.00000000e+000 0.00000000e+000]\n",
      " [0.00000000e+000 0.00000000e+000 0.00000000e+000 0.00000000e+000\n",
      "  0.00000000e+000 0.00000000e+000 0.00000000e+000 0.00000000e+000\n",
      "  0.00000000e+000 0.00000000e+000 0.00000000e+000 0.00000000e+000\n",
      "  0.00000000e+000 0.00000000e+000 0.00000000e+000]\n",
      " [0.00000000e+000 0.00000000e+000 0.00000000e+000 0.00000000e+000\n",
      "  0.00000000e+000 0.00000000e+000 0.00000000e+000 0.00000000e+000\n",
      "  0.00000000e+000 0.00000000e+000 0.00000000e+000 0.00000000e+000\n",
      "  0.00000000e+000 0.00000000e+000 0.00000000e+000]\n",
      " [0.00000000e+000 0.00000000e+000 0.00000000e+000 0.00000000e+000\n",
      "  0.00000000e+000 0.00000000e+000 0.00000000e+000 0.00000000e+000\n",
      "  0.00000000e+000 0.00000000e+000 0.00000000e+000 0.00000000e+000\n",
      "  0.00000000e+000 0.00000000e+000 0.00000000e+000]\n",
      " [0.00000000e+000 0.00000000e+000 0.00000000e+000 0.00000000e+000\n",
      "  0.00000000e+000 0.00000000e+000 0.00000000e+000 0.00000000e+000\n",
      "  0.00000000e+000 0.00000000e+000 0.00000000e+000 0.00000000e+000\n",
      "  0.00000000e+000 0.00000000e+000 0.00000000e+000]\n",
      " [0.00000000e+000 0.00000000e+000 0.00000000e+000 0.00000000e+000\n",
      "  0.00000000e+000 0.00000000e+000 0.00000000e+000 0.00000000e+000\n",
      "  0.00000000e+000 0.00000000e+000 0.00000000e+000 0.00000000e+000\n",
      "  0.00000000e+000 0.00000000e+000 0.00000000e+000]\n",
      " [0.00000000e+000 0.00000000e+000 0.00000000e+000 0.00000000e+000\n",
      "  0.00000000e+000 0.00000000e+000 0.00000000e+000 0.00000000e+000\n",
      "  0.00000000e+000 0.00000000e+000 0.00000000e+000 0.00000000e+000\n",
      "  0.00000000e+000 0.00000000e+000 0.00000000e+000]\n",
      " [0.00000000e+000 0.00000000e+000 0.00000000e+000 0.00000000e+000\n",
      "  0.00000000e+000 0.00000000e+000 0.00000000e+000 0.00000000e+000\n",
      "  0.00000000e+000 0.00000000e+000 0.00000000e+000 0.00000000e+000\n",
      "  0.00000000e+000 0.00000000e+000 0.00000000e+000]\n",
      " [0.00000000e+000 0.00000000e+000 0.00000000e+000 0.00000000e+000\n",
      "  0.00000000e+000 0.00000000e+000 0.00000000e+000 0.00000000e+000\n",
      "  0.00000000e+000 0.00000000e+000 0.00000000e+000 0.00000000e+000\n",
      "  0.00000000e+000 0.00000000e+000 0.00000000e+000]\n",
      " [0.00000000e+000 0.00000000e+000 0.00000000e+000 0.00000000e+000\n",
      "  0.00000000e+000 0.00000000e+000 0.00000000e+000 0.00000000e+000\n",
      "  0.00000000e+000 0.00000000e+000 0.00000000e+000 0.00000000e+000\n",
      "  0.00000000e+000 0.00000000e+000 0.00000000e+000]\n",
      " [0.00000000e+000 0.00000000e+000 0.00000000e+000 0.00000000e+000\n",
      "  0.00000000e+000 0.00000000e+000 0.00000000e+000 0.00000000e+000\n",
      "  0.00000000e+000 0.00000000e+000 0.00000000e+000 0.00000000e+000\n",
      "  0.00000000e+000 0.00000000e+000 0.00000000e+000]\n",
      " [0.00000000e+000 0.00000000e+000 0.00000000e+000 0.00000000e+000\n",
      "  0.00000000e+000 0.00000000e+000 0.00000000e+000 0.00000000e+000\n",
      "  0.00000000e+000 0.00000000e+000 0.00000000e+000 0.00000000e+000\n",
      "  0.00000000e+000 0.00000000e+000 0.00000000e+000]\n",
      " [0.00000000e+000 0.00000000e+000 0.00000000e+000 0.00000000e+000\n",
      "  0.00000000e+000 0.00000000e+000 0.00000000e+000 0.00000000e+000\n",
      "  0.00000000e+000 0.00000000e+000 5.22107022e-201 6.31302164e-072\n",
      "  0.00000000e+000 0.00000000e+000 0.00000000e+000]\n",
      " [0.00000000e+000 0.00000000e+000 0.00000000e+000 0.00000000e+000\n",
      "  0.00000000e+000 0.00000000e+000 0.00000000e+000 0.00000000e+000\n",
      "  0.00000000e+000 0.00000000e+000 2.67022054e-171 2.70167437e+019\n",
      "  8.33394471e+104 5.44676152e+058 0.00000000e+000]\n",
      " [0.00000000e+000 0.00000000e+000 0.00000000e+000 0.00000000e+000\n",
      "  0.00000000e+000 0.00000000e+000 0.00000000e+000 0.00000000e+000\n",
      "  0.00000000e+000 0.00000000e+000 1.67776906e-183 7.31452785e+008\n",
      "  1.44039346e+100 3.93321357e+091 0.00000000e+000]]\n",
      "Norm:\n",
      " 2.9758649741506015e+96\n",
      "term 1: [[[0.00000000e+000 0.00000000e+000 0.00000000e+000 ... 0.00000000e+000\n",
      "   0.00000000e+000 0.00000000e+000]\n",
      "  [0.00000000e+000 0.00000000e+000 0.00000000e+000 ... 0.00000000e+000\n",
      "   0.00000000e+000 0.00000000e+000]\n",
      "  [0.00000000e+000 0.00000000e+000 0.00000000e+000 ... 0.00000000e+000\n",
      "   0.00000000e+000 0.00000000e+000]\n",
      "  ...\n",
      "  [0.00000000e+000 0.00000000e+000 0.00000000e+000 ... 0.00000000e+000\n",
      "   0.00000000e+000 0.00000000e+000]\n",
      "  [0.00000000e+000 0.00000000e+000 0.00000000e+000 ... 0.00000000e+000\n",
      "   0.00000000e+000 0.00000000e+000]\n",
      "  [0.00000000e+000 0.00000000e+000 0.00000000e+000 ... 0.00000000e+000\n",
      "   0.00000000e+000 0.00000000e+000]]\n",
      "\n",
      " [[0.00000000e+000 0.00000000e+000 0.00000000e+000 ... 0.00000000e+000\n",
      "   0.00000000e+000 0.00000000e+000]\n",
      "  [0.00000000e+000 0.00000000e+000 0.00000000e+000 ... 0.00000000e+000\n",
      "   0.00000000e+000 0.00000000e+000]\n",
      "  [0.00000000e+000 0.00000000e+000 0.00000000e+000 ... 0.00000000e+000\n",
      "   0.00000000e+000 0.00000000e+000]\n",
      "  ...\n",
      "  [0.00000000e+000 0.00000000e+000 0.00000000e+000 ... 0.00000000e+000\n",
      "   0.00000000e+000 0.00000000e+000]\n",
      "  [0.00000000e+000 0.00000000e+000 0.00000000e+000 ... 0.00000000e+000\n",
      "   0.00000000e+000 0.00000000e+000]\n",
      "  [0.00000000e+000 0.00000000e+000 0.00000000e+000 ... 0.00000000e+000\n",
      "   0.00000000e+000 0.00000000e+000]]\n",
      "\n",
      " [[0.00000000e+000 0.00000000e+000 0.00000000e+000 ... 0.00000000e+000\n",
      "   0.00000000e+000 0.00000000e+000]\n",
      "  [0.00000000e+000 0.00000000e+000 0.00000000e+000 ... 0.00000000e+000\n",
      "   0.00000000e+000 0.00000000e+000]\n",
      "  [0.00000000e+000 0.00000000e+000 0.00000000e+000 ... 0.00000000e+000\n",
      "   0.00000000e+000 0.00000000e+000]\n",
      "  ...\n",
      "  [0.00000000e+000 0.00000000e+000 0.00000000e+000 ... 0.00000000e+000\n",
      "   0.00000000e+000 0.00000000e+000]\n",
      "  [0.00000000e+000 0.00000000e+000 0.00000000e+000 ... 0.00000000e+000\n",
      "   0.00000000e+000 0.00000000e+000]\n",
      "  [0.00000000e+000 0.00000000e+000 0.00000000e+000 ... 0.00000000e+000\n",
      "   0.00000000e+000 0.00000000e+000]]\n",
      "\n",
      " ...\n",
      "\n",
      " [[0.00000000e+000 0.00000000e+000 0.00000000e+000 ... 0.00000000e+000\n",
      "   0.00000000e+000 0.00000000e+000]\n",
      "  [0.00000000e+000 0.00000000e+000 0.00000000e+000 ... 0.00000000e+000\n",
      "   0.00000000e+000 0.00000000e+000]\n",
      "  [0.00000000e+000 0.00000000e+000 0.00000000e+000 ... 0.00000000e+000\n",
      "   0.00000000e+000 0.00000000e+000]\n",
      "  ...\n",
      "  [0.00000000e+000 0.00000000e+000 0.00000000e+000 ... 0.00000000e+000\n",
      "   0.00000000e+000 0.00000000e+000]\n",
      "  [0.00000000e+000 0.00000000e+000 0.00000000e+000 ... 0.00000000e+000\n",
      "   0.00000000e+000 0.00000000e+000]\n",
      "  [0.00000000e+000 0.00000000e+000 0.00000000e+000 ... 0.00000000e+000\n",
      "   0.00000000e+000 0.00000000e+000]]\n",
      "\n",
      " [[0.00000000e+000 0.00000000e+000 0.00000000e+000 ... 0.00000000e+000\n",
      "   0.00000000e+000 0.00000000e+000]\n",
      "  [0.00000000e+000 0.00000000e+000 0.00000000e+000 ... 0.00000000e+000\n",
      "   0.00000000e+000 0.00000000e+000]\n",
      "  [0.00000000e+000 0.00000000e+000 0.00000000e+000 ... 0.00000000e+000\n",
      "   0.00000000e+000 0.00000000e+000]\n",
      "  ...\n",
      "  [0.00000000e+000 0.00000000e+000 0.00000000e+000 ... 0.00000000e+000\n",
      "   0.00000000e+000 0.00000000e+000]\n",
      "  [0.00000000e+000 0.00000000e+000 0.00000000e+000 ... 0.00000000e+000\n",
      "   0.00000000e+000 0.00000000e+000]\n",
      "  [0.00000000e+000 0.00000000e+000 0.00000000e+000 ... 0.00000000e+000\n",
      "   0.00000000e+000 0.00000000e+000]]\n",
      "\n",
      " [[6.95258158e-016 6.95258158e-016 6.95258158e-016 ... 6.95258158e-016\n",
      "   6.95258158e-016 6.95258158e-016]\n",
      "  [4.64721883e-023 4.64721883e-023 4.64721883e-023 ... 4.64721883e-023\n",
      "   4.64721883e-023 4.64721883e-023]\n",
      "  [1.34320256e-030 1.34320256e-030 1.34320256e-030 ... 1.34320256e-030\n",
      "   1.34320256e-030 1.34320256e-030]\n",
      "  ...\n",
      "  [5.15466164e-126 5.15466164e-126 5.15466164e-126 ... 5.15466164e-126\n",
      "   5.15466164e-126 5.15466164e-126]\n",
      "  [1.47252781e-137 1.47252781e-137 1.47252781e-137 ... 1.47252781e-137\n",
      "   1.47252781e-137 1.47252781e-137]\n",
      "  [1.81898118e-149 1.81898118e-149 1.81898118e-149 ... 1.81898118e-149\n",
      "   1.81898118e-149 1.81898118e-149]]]\n",
      "term 2: [[[0.00000000e+000 0.00000000e+000 0.00000000e+000 ... 6.58075993e-221\n",
      "   2.38979149e-184 2.29268557e-196]\n",
      "  [0.00000000e+000 0.00000000e+000 0.00000000e+000 ... 6.58075993e-221\n",
      "   2.38979149e-184 2.29268557e-196]\n",
      "  [0.00000000e+000 0.00000000e+000 0.00000000e+000 ... 6.58075993e-221\n",
      "   2.38979149e-184 2.29268557e-196]\n",
      "  ...\n",
      "  [0.00000000e+000 0.00000000e+000 0.00000000e+000 ... 6.58075993e-221\n",
      "   2.38979149e-184 2.29268557e-196]\n",
      "  [0.00000000e+000 0.00000000e+000 0.00000000e+000 ... 6.58075993e-221\n",
      "   2.38979149e-184 2.29268557e-196]\n",
      "  [0.00000000e+000 0.00000000e+000 0.00000000e+000 ... 6.58075993e-221\n",
      "   2.38979149e-184 2.29268557e-196]]\n",
      "\n",
      " [[0.00000000e+000 0.00000000e+000 0.00000000e+000 ... 2.31961370e-220\n",
      "   8.42363670e-184 8.08135371e-196]\n",
      "  [0.00000000e+000 0.00000000e+000 0.00000000e+000 ... 2.31961370e-220\n",
      "   8.42363670e-184 8.08135371e-196]\n",
      "  [0.00000000e+000 0.00000000e+000 0.00000000e+000 ... 2.31961370e-220\n",
      "   8.42363670e-184 8.08135371e-196]\n",
      "  ...\n",
      "  [0.00000000e+000 0.00000000e+000 0.00000000e+000 ... 2.31961370e-220\n",
      "   8.42363670e-184 8.08135371e-196]\n",
      "  [0.00000000e+000 0.00000000e+000 0.00000000e+000 ... 2.31961370e-220\n",
      "   8.42363670e-184 8.08135371e-196]\n",
      "  [0.00000000e+000 0.00000000e+000 0.00000000e+000 ... 2.31961370e-220\n",
      "   8.42363670e-184 8.08135371e-196]]\n",
      "\n",
      " [[0.00000000e+000 0.00000000e+000 0.00000000e+000 ... 9.04422736e-220\n",
      "   3.28439539e-183 3.15093847e-195]\n",
      "  [0.00000000e+000 0.00000000e+000 0.00000000e+000 ... 9.04422736e-220\n",
      "   3.28439539e-183 3.15093847e-195]\n",
      "  [0.00000000e+000 0.00000000e+000 0.00000000e+000 ... 9.04422736e-220\n",
      "   3.28439539e-183 3.15093847e-195]\n",
      "  ...\n",
      "  [0.00000000e+000 0.00000000e+000 0.00000000e+000 ... 9.04422736e-220\n",
      "   3.28439539e-183 3.15093847e-195]\n",
      "  [0.00000000e+000 0.00000000e+000 0.00000000e+000 ... 9.04422736e-220\n",
      "   3.28439539e-183 3.15093847e-195]\n",
      "  [0.00000000e+000 0.00000000e+000 0.00000000e+000 ... 9.04422736e-220\n",
      "   3.28439539e-183 3.15093847e-195]]\n",
      "\n",
      " ...\n",
      "\n",
      " [[0.00000000e+000 0.00000000e+000 0.00000000e+000 ... 1.53088556e-206\n",
      "   5.55938423e-170 5.33348624e-182]\n",
      "  [0.00000000e+000 0.00000000e+000 0.00000000e+000 ... 1.53088556e-206\n",
      "   5.55938423e-170 5.33348624e-182]\n",
      "  [0.00000000e+000 0.00000000e+000 0.00000000e+000 ... 1.53088556e-206\n",
      "   5.55938423e-170 5.33348624e-182]\n",
      "  ...\n",
      "  [0.00000000e+000 0.00000000e+000 0.00000000e+000 ... 1.53088556e-206\n",
      "   5.55938423e-170 5.33348624e-182]\n",
      "  [0.00000000e+000 0.00000000e+000 0.00000000e+000 ... 1.53088556e-206\n",
      "   5.55938423e-170 5.33348624e-182]\n",
      "  [0.00000000e+000 0.00000000e+000 0.00000000e+000 ... 1.53088556e-206\n",
      "   5.55938423e-170 5.33348624e-182]]\n",
      "\n",
      " [[0.00000000e+000 0.00000000e+000 0.00000000e+000 ... 2.00656233e-201\n",
      "   7.28679610e-165 6.99070708e-177]\n",
      "  [0.00000000e+000 0.00000000e+000 0.00000000e+000 ... 2.00656233e-201\n",
      "   7.28679610e-165 6.99070708e-177]\n",
      "  [0.00000000e+000 0.00000000e+000 0.00000000e+000 ... 2.00656233e-201\n",
      "   7.28679610e-165 6.99070708e-177]\n",
      "  ...\n",
      "  [0.00000000e+000 0.00000000e+000 0.00000000e+000 ... 2.00656233e-201\n",
      "   7.28679610e-165 6.99070708e-177]\n",
      "  [0.00000000e+000 0.00000000e+000 0.00000000e+000 ... 2.00656233e-201\n",
      "   7.28679610e-165 6.99070708e-177]\n",
      "  [0.00000000e+000 0.00000000e+000 0.00000000e+000 ... 2.00656233e-201\n",
      "   7.28679610e-165 6.99070708e-177]]\n",
      "\n",
      " [[0.00000000e+000 0.00000000e+000 0.00000000e+000 ... 3.32586792e+050\n",
      "   1.07151610e+061 2.05630505e+048]\n",
      "  [0.00000000e+000 0.00000000e+000 0.00000000e+000 ... 3.17811499e+046\n",
      "   1.24642017e+061 3.07859240e+048]\n",
      "  [0.00000000e+000 0.00000000e+000 0.00000000e+000 ... 4.41725118e+041\n",
      "   1.39771513e+061 4.67455367e+048]\n",
      "  ...\n",
      "  [0.00000000e+000 0.00000000e+000 0.00000000e+000 ... 0.00000000e+000\n",
      "   1.49812297e+055 8.66938722e+050]\n",
      "  [0.00000000e+000 0.00000000e+000 0.00000000e+000 ... 0.00000000e+000\n",
      "   3.96021822e+049 1.46288927e+051]\n",
      "  [0.00000000e+000 0.00000000e+000 0.00000000e+000 ... 0.00000000e+000\n",
      "   1.15894439e+034 1.57882567e+051]]]\n",
      "Posterior M2:\n",
      " [[[0.00000000e+000 0.00000000e+000 0.00000000e+000 ... 0.00000000e+000\n",
      "   0.00000000e+000 0.00000000e+000]\n",
      "  [0.00000000e+000 0.00000000e+000 0.00000000e+000 ... 0.00000000e+000\n",
      "   0.00000000e+000 0.00000000e+000]\n",
      "  [0.00000000e+000 0.00000000e+000 0.00000000e+000 ... 0.00000000e+000\n",
      "   0.00000000e+000 0.00000000e+000]\n",
      "  ...\n",
      "  [0.00000000e+000 0.00000000e+000 0.00000000e+000 ... 0.00000000e+000\n",
      "   0.00000000e+000 0.00000000e+000]\n",
      "  [0.00000000e+000 0.00000000e+000 0.00000000e+000 ... 0.00000000e+000\n",
      "   0.00000000e+000 0.00000000e+000]\n",
      "  [0.00000000e+000 0.00000000e+000 0.00000000e+000 ... 0.00000000e+000\n",
      "   0.00000000e+000 0.00000000e+000]]\n",
      "\n",
      " [[0.00000000e+000 0.00000000e+000 0.00000000e+000 ... 0.00000000e+000\n",
      "   0.00000000e+000 0.00000000e+000]\n",
      "  [0.00000000e+000 0.00000000e+000 0.00000000e+000 ... 0.00000000e+000\n",
      "   0.00000000e+000 0.00000000e+000]\n",
      "  [0.00000000e+000 0.00000000e+000 0.00000000e+000 ... 0.00000000e+000\n",
      "   0.00000000e+000 0.00000000e+000]\n",
      "  ...\n",
      "  [0.00000000e+000 0.00000000e+000 0.00000000e+000 ... 0.00000000e+000\n",
      "   0.00000000e+000 0.00000000e+000]\n",
      "  [0.00000000e+000 0.00000000e+000 0.00000000e+000 ... 0.00000000e+000\n",
      "   0.00000000e+000 0.00000000e+000]\n",
      "  [0.00000000e+000 0.00000000e+000 0.00000000e+000 ... 0.00000000e+000\n",
      "   0.00000000e+000 0.00000000e+000]]\n",
      "\n",
      " [[0.00000000e+000 0.00000000e+000 0.00000000e+000 ... 0.00000000e+000\n",
      "   0.00000000e+000 0.00000000e+000]\n",
      "  [0.00000000e+000 0.00000000e+000 0.00000000e+000 ... 0.00000000e+000\n",
      "   0.00000000e+000 0.00000000e+000]\n",
      "  [0.00000000e+000 0.00000000e+000 0.00000000e+000 ... 0.00000000e+000\n",
      "   0.00000000e+000 0.00000000e+000]\n",
      "  ...\n",
      "  [0.00000000e+000 0.00000000e+000 0.00000000e+000 ... 0.00000000e+000\n",
      "   0.00000000e+000 0.00000000e+000]\n",
      "  [0.00000000e+000 0.00000000e+000 0.00000000e+000 ... 0.00000000e+000\n",
      "   0.00000000e+000 0.00000000e+000]\n",
      "  [0.00000000e+000 0.00000000e+000 0.00000000e+000 ... 0.00000000e+000\n",
      "   0.00000000e+000 0.00000000e+000]]\n",
      "\n",
      " ...\n",
      "\n",
      " [[0.00000000e+000 0.00000000e+000 0.00000000e+000 ... 0.00000000e+000\n",
      "   0.00000000e+000 0.00000000e+000]\n",
      "  [0.00000000e+000 0.00000000e+000 0.00000000e+000 ... 0.00000000e+000\n",
      "   0.00000000e+000 0.00000000e+000]\n",
      "  [0.00000000e+000 0.00000000e+000 0.00000000e+000 ... 0.00000000e+000\n",
      "   0.00000000e+000 0.00000000e+000]\n",
      "  ...\n",
      "  [0.00000000e+000 0.00000000e+000 0.00000000e+000 ... 0.00000000e+000\n",
      "   0.00000000e+000 0.00000000e+000]\n",
      "  [0.00000000e+000 0.00000000e+000 0.00000000e+000 ... 0.00000000e+000\n",
      "   0.00000000e+000 0.00000000e+000]\n",
      "  [0.00000000e+000 0.00000000e+000 0.00000000e+000 ... 0.00000000e+000\n",
      "   0.00000000e+000 0.00000000e+000]]\n",
      "\n",
      " [[0.00000000e+000 0.00000000e+000 0.00000000e+000 ... 0.00000000e+000\n",
      "   0.00000000e+000 0.00000000e+000]\n",
      "  [0.00000000e+000 0.00000000e+000 0.00000000e+000 ... 0.00000000e+000\n",
      "   0.00000000e+000 0.00000000e+000]\n",
      "  [0.00000000e+000 0.00000000e+000 0.00000000e+000 ... 0.00000000e+000\n",
      "   0.00000000e+000 0.00000000e+000]\n",
      "  ...\n",
      "  [0.00000000e+000 0.00000000e+000 0.00000000e+000 ... 0.00000000e+000\n",
      "   0.00000000e+000 0.00000000e+000]\n",
      "  [0.00000000e+000 0.00000000e+000 0.00000000e+000 ... 0.00000000e+000\n",
      "   0.00000000e+000 0.00000000e+000]\n",
      "  [0.00000000e+000 0.00000000e+000 0.00000000e+000 ... 0.00000000e+000\n",
      "   0.00000000e+000 0.00000000e+000]]\n",
      "\n",
      " [[0.00000000e+000 0.00000000e+000 0.00000000e+000 ... 1.37393750e+040\n",
      "   4.42650215e+050 8.49472884e+037]\n",
      "  [0.00000000e+000 0.00000000e+000 0.00000000e+000 ... 8.77563625e+028\n",
      "   3.44170366e+043 8.50082743e+030]\n",
      "  [0.00000000e+000 0.00000000e+000 0.00000000e+000 ... 3.52540886e+016\n",
      "   1.11551666e+036 3.73076202e+023]\n",
      "  ...\n",
      "  [0.00000000e+000 0.00000000e+000 0.00000000e+000 ... 0.00000000e+000\n",
      "   4.58842365e-066 2.65524407e-070]\n",
      "  [0.00000000e+000 0.00000000e+000 0.00000000e+000 ... 0.00000000e+000\n",
      "   3.46496224e-083 1.27994363e-081]\n",
      "  [0.00000000e+000 0.00000000e+000 0.00000000e+000 ... 0.00000000e+000\n",
      "   1.25258350e-110 1.70638988e-093]]]\n",
      "Norm:\n",
      " -3.4553820518485986e+42\n"
     ]
    }
   ],
   "source": [
    "#p_posterior_m1, norm1 = posterior_m1(time, s, alpha_vals2, eps_vals, err)\n",
    "p_posterior_m1, norm1 = posterior(time, s, alpha_vals1, beta_vals2, eps_vals, err, model=1)\n",
    "print('Posterior M1:\\n',p_posterior_m1)\n",
    "print('Norm:\\n',norm1)\n",
    "\n",
    "#p_posterior_m2, norm2 = posterior_m2(time, s, alpha_vals2, beta_vals2, eps_vals, err)\n",
    "p_posterior_m2, norm2 = posterior(time, s, alpha_vals2, beta_vals2, eps_vals, err, model=2)\n",
    "print('Posterior M2:\\n',p_posterior_m2)\n",
    "print('Norm:\\n',norm2)\n"
   ]
  },
  {
   "cell_type": "markdown",
   "metadata": {},
   "source": [
    "Now we want to visualize our results. It's very hard to visualize a 3D array, so we will want to marginalize over some of our variables. For example, if I am only interested the posterior distribution of $\\varepsilon$, then I integrate over all the other parameters. For $\\mathcal{M}_1$, this becomes\n",
    "\n",
    "\\begin{equation}\n",
    "p \\left(\\varepsilon | \\mathbf{d}, \\mathcal{M}_1 \\right) = \\int p \\left(\\alpha, \\varepsilon | \\mathbf{d}, \\mathcal{M}_1 \\right) d\\alpha\n",
    "\\end{equation}"
   ]
  },
  {
   "cell_type": "markdown",
   "metadata": {},
   "source": [
    "__Exercise__: Plot the marginalized distributions for $\\varepsilon$ for both $\\mathcal{M}_1$ and $\\mathcal{M}_2$. There's no need to do a fancy numerical integral---it's sufficient to simply sum up the arrays along appropriate axes and to multiply by the appropriate differential elements like $d\\alpha$ (or some $\\Delta \\alpha$, since this is a discrete numerical approximation)."
   ]
  },
  {
   "cell_type": "code",
   "execution_count": 287,
   "metadata": {},
   "outputs": [
    {
     "data": {
      "image/png": "[encoded data removed]",
      "text/plain": [
       "<Figure size 432x288 with 1 Axes>"
      ]
     },
     "metadata": {
      "needs_background": "light"
     },
     "output_type": "display_data"
    }
   ],
   "source": [
    "## Your code here\n",
    "#Get the differential element sizes\n",
    "da1 = alpha_vals1[1]-alpha_vals1[0]\n",
    "da2 = alpha_vals2[1]-alpha_vals2[0]\n",
    "de = eps_vals[1]-eps_vals[0]\n",
    "db = beta_vals2[1]-beta_vals2[0]\n",
    "\n",
    "#Evaluate sums for marginalized distribution of each model\n",
    "posterior_marg_eps_m1 = np.sum(p_posterior_m1, axis=0)*da1\n",
    "\n",
    "#Not 100% sure if the axis should be 0 or 1 for the beta sum, but I think after we sum alpha then beta should become the new 0 axis\n",
    "posterior_marg_eps_m2 = np.sum(np.sum(p_posterior_m2, axis=0)*da2, axis=0)*db\n",
    "\n",
    "#Plot the marginalized distributions\n",
    "import matplotlib.pyplot as plt\n",
    "plt.plot(eps_vals, posterior_marg_eps_m1, label='M1')\n",
    "plt.plot(eps_vals, posterior_marg_eps_m2, label='M2')\n",
    "plt.xlabel('$\\epsilon$')\n",
    "plt.ylabel('Probability')\n",
    "plt.title('Marginalized Probability Distributions for $\\epsilon$')\n",
    "plt.legend()\n",
    "plt.show()\n",
    "\n",
    "#Read the max value off of the graph once it's working\n",
    "eps_opt = eps_vals[1] #Placeholder value for now"
   ]
  },
  {
   "cell_type": "markdown",
   "metadata": {},
   "source": [
    "You should find that the data really does prefer a particular value for $\\varepsilon$, so it's possible to get a sense for the error bars from the data! This may seem like magic---how can we figure out the error bars with no error information to begin with? What's really happening is that our analysis is using the scatter of our data points. Imagine I gave you a bunch of points with no error bars and asked you to fit a straight line through them. You could probably look at the distance between your best-fit line and the data points and roughly guess how big the error bars are. This is essentially what's going on here, in a more statistically disciplined fashion. In general, it's best if you have accurately estimated error bars from your measurements that you can just use. But this is a handy trick if you're in a pinch. Another interesting technique is to multiply all parameters with some parameter $\\eta$, such that $\\sigma_i \\rightarrow \\eta \\sigma_i$. This new parameter is now another free parameter in our fitting exercise. If the posterior is peaked around $\\eta \\approx 1$, then the errors have been correctly estimated. If $\\eta > 1$, the errors have been underestimated."
   ]
  },
  {
   "cell_type": "markdown",
   "metadata": {},
   "source": [
    "__Question__: Compare $p \\left(\\varepsilon | \\mathbf{d}, \\mathcal{M}_1 \\right)$ and $p \\left(\\varepsilon | \\mathbf{d}, \\mathcal{M}_2 \\right)$. Why do you think this is? (Hint: look at the data. Just from eyeballing the results, do you think $\\mathcal{M}_1$ is likely to be a good model? It may also help to do the next two questions before answering this)"
   ]
  },
  {
   "cell_type": "code",
   "execution_count": 276,
   "metadata": {},
   "outputs": [],
   "source": [
    "## Your answer here"
   ]
  },
  {
   "cell_type": "markdown",
   "metadata": {},
   "source": [
    "Ultimately, $\\varepsilon$ is a nuisance parameter, so while it's interesting to look at to help us understand the data, what we really care about are parameters like $\\alpha$ and $\\beta$."
   ]
  },
  {
   "cell_type": "markdown",
   "metadata": {},
   "source": [
    "__Exercise__: Marginalize over $\\varepsilon$ to compute $p \\left(\\alpha, \\beta | \\mathbf{d}, \\mathcal{M}_2 \\right)$. Make a contour plot of your results. Are the best-fit values of $\\alpha$ and $\\beta$ correlated with one another?"
   ]
  },
  {
   "cell_type": "code",
   "execution_count": 277,
   "metadata": {},
   "outputs": [
    {
     "data": {
      "image/png": "[encoded data removed]",
      "text/plain": [
       "<Figure size 432x288 with 1 Axes>"
      ]
     },
     "metadata": {
      "needs_background": "light"
     },
     "output_type": "display_data"
    }
   ],
   "source": [
    "## Your code/answer here\n",
    "posterior_marg_m2 = np.sum(p_posterior_m2, axis=2)*de\n",
    "\n",
    "alpha_grid, beta_grid = np.meshgrid(alpha_vals2, beta_vals2)\n",
    "\n",
    "plt.contour(alpha_grid, beta_grid, posterior_marg_m2)\n",
    "plt.title('Posterior Probability Marginalized Over $\\epsilon$')\n",
    "plt.xlabel('Alpha')\n",
    "plt.ylabel('Beta')\n",
    "plt.show()\n"
   ]
  },
  {
   "cell_type": "markdown",
   "metadata": {},
   "source": [
    "__Exercise__: Find the values for $\\alpha$, $\\beta$, and $\\varepsilon$ that maximize the posterior for the two models (these values are known as MAP or \"maximum *a posteriori*\" values). Use these values to plot your best-fit curves, as well as the original data points and their error bars (now that you have them for every point)."
   ]
  },
  {
   "cell_type": "code",
   "execution_count": 278,
   "metadata": {},
   "outputs": [],
   "source": [
    "## Your code here\n",
    "#Get the indices of the MAP values for each model\n",
    "ind_max_m1 = np.unravel_index(np.argmax(p_posterior_m1, axis=None), p_posterior_m1.shape)\n",
    "ind_max_m2 = np.unravel_index(np.argmax(p_posterior_m2, axis=None), p_posterior_m2.shape)\n",
    "\n",
    "#Extract the corresponding parameter values\n",
    "alpha_MAP_m1 = alpha_vals1[ind_max_m1[0]]\n",
    "eps_MAP_m1 = eps_vals[ind_max_m1[1]]\n",
    "\n",
    "alpha_MAP_m2 = alpha_vals2[ind_max_m2[0]]\n",
    "beta_MAP_m2 = beta_vals2[ind_max_m2[1]]\n",
    "eps_MAP_m2 = eps_vals[ind_max_m2[2]]\n",
    "\n",
    "m1_fit = model_1(time, alpha_MAP_m1)\n",
    "m2_fit = model_2(time, alpha_MAP_m2, beta_MAP_m2)\n",
    "\n",
    "err_m1 = err\n",
    "err_m2 = err\n",
    "err_m1[10:] = 10**(eps_opt)*model_1(time[10:],alpha_MAP_m1)\n",
    "err_m2[10:] = 10**(eps_opt)*model_2(time[10:],alpha_MAP_m2, beta_MAP_m2)"
   ]
  },
  {
   "cell_type": "code",
   "execution_count": 279,
   "metadata": {},
   "outputs": [
    {
     "data": {
      "image/png": "[encoded data removed]",
      "text/plain": [
       "<Figure size 432x288 with 1 Axes>"
      ]
     },
     "metadata": {
      "needs_background": "light"
     },
     "output_type": "display_data"
    }
   ],
   "source": [
    "plt.plot(time, s, 'o', label='Data')\n",
    "plt.errorbar(time, s, yerr= err_m2) #Not sure which errorbars to use, where to put them, or what markerstyle to use\n",
    "plt.plot(time, m1_fit, label='M1 (Linear)')\n",
    "plt.plot(time, m2_fit, label='M2 (Quadratic)')\n",
    "plt.legend()\n",
    "plt.xlabel('Time (s)')\n",
    "plt.ylabel('Cumulative Shift of Perioastron Time (s)')\n",
    "plt.show()"
   ]
  },
  {
   "cell_type": "markdown",
   "metadata": {},
   "source": [
    "### Model selection"
   ]
  },
  {
   "cell_type": "markdown",
   "metadata": {},
   "source": [
    "Let's now compute the Bayesian evidences to help us decide on an appropriate model."
   ]
  },
  {
   "cell_type": "markdown",
   "metadata": {},
   "source": [
    "__Exercise__: Compute $p(\\mathbf{d} | \\mathcal{M}_1)$ and $p(\\mathbf{d} | \\mathcal{M}_2)$. If you make use of intermediate results you had from before, this should just be a matter of doing a numerical integral over an array you already have. (As before, though, there's no need to use a fancy numerical integration technique. Riemann sums are fine)."
   ]
  },
  {
   "cell_type": "code",
   "execution_count": 280,
   "metadata": {},
   "outputs": [],
   "source": [
    "## Your code here"
   ]
  },
  {
   "cell_type": "markdown",
   "metadata": {},
   "source": [
    "How lopsided do the evidences need to be in order for one to favour one model over another? There's no hard and fast rule, but everyone seems to quote the (arbitrary) rules of thumb written by [Kass & Raftery (1995)](https://www.stat.washington.edu/raftery/Research/PDF/kass1995.pdf), who suggest the following:\n",
    "\n",
    "|  $\\frac{p(\\mathbf{d} | \\mathcal{M}_2)}{p(\\mathbf{d} | \\mathcal{M}_1)}$  | Evidence against $\\mathcal{M}_1$  |\n",
    "|---|---|\n",
    "| 1 to 3.2  |  Not worth more than a bare mention |\n",
    "|  3.2 to 10 | Substantial  |\n",
    "|  10 to 100 |  Strong |\n",
    "|  > 100 |  Decisive |\n"
   ]
  },
  {
   "cell_type": "markdown",
   "metadata": {},
   "source": [
    "__Question__: Which model is favoured?"
   ]
  },
  {
   "cell_type": "code",
   "execution_count": 281,
   "metadata": {},
   "outputs": [],
   "source": [
    "## Your code here"
   ]
  },
  {
   "cell_type": "markdown",
   "metadata": {},
   "source": [
    "## Discussion"
   ]
  },
  {
   "cell_type": "markdown",
   "metadata": {},
   "source": [
    "In completing this exercise, you probably found that with a reasonably fine ``np.linspace`` grid, it took a little time for your code to run. This problem gets worse and worse as we include more and more parameters in our model because of what's known as \"the curse of dimensionality\". For example, if we have two parameters $\\alpha$ and $\\beta$ and we want to evaluate the posterior on a grid with $100$ points along the $\\alpha$ axis and $100$ points along the $\\beta$ axis, we end up having to evaluate $N = 100^2$ points. But if we had a $12$ free parameters, we would need to evaluate $N = 100^{12}$ points! This is not very practical from a computational standpoint. Next lecture we will begin learning about __*Markov Chain Monte Carlo*__ techniques that allow us to bypass this problem."
   ]
  },
  {
   "cell_type": "markdown",
   "metadata": {},
   "source": [
    "## Submitting your work"
   ]
  },
  {
   "cell_type": "markdown",
   "metadata": {},
   "source": [
    "Don't forget to push a copy of your completed notebook to your Github repo for marking!"
   ]
  },
  {
   "cell_type": "code",
   "execution_count": null,
   "metadata": {},
   "outputs": [],
   "source": []
  }
 ],
 "metadata": {
  "kernelspec": {
   "display_name": "Python 3",
   "language": "python",
   "name": "python3"
  },
  "language_info": {
   "codemirror_mode": {
    "name": "ipython",
    "version": 3
   },
   "file_extension": ".py",
   "mimetype": "text/x-python",
   "name": "python",
   "nbconvert_exporter": "python",
   "pygments_lexer": "ipython3",
   "version": "3.7.4"
  }
 },
 "nbformat": 4,
 "nbformat_minor": 4
}
