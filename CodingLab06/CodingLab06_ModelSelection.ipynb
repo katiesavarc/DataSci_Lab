{
 "cells": [
  {
   "cell_type": "markdown",
   "metadata": {},
   "source": [
    "# PHYS 321 Coding Lab #6: Bayesian Model Selection with the Hulse-Taylor Binary"
   ]
  },
  {
   "cell_type": "markdown",
   "metadata": {},
   "source": [
    "In this Coding Lab, we use data from the Hulse-Taylor binary system to get more familiar with the concepts of marginalization and Bayesian model selection."
   ]
  },
  {
   "cell_type": "code",
   "execution_count": 502,
   "metadata": {},
   "outputs": [],
   "source": [
    "import numpy as np"
   ]
  },
  {
   "cell_type": "markdown",
   "metadata": {},
   "source": [
    "## Background"
   ]
  },
  {
   "cell_type": "markdown",
   "metadata": {},
   "source": [
    "Recall that the Hulse-Taylor binary system is a binary system consisting of two neutron stars, one of which is a pulsar:\n",
    "\n",
    "<div>\n",
    "<img src=\"images/binpulse.gif\" width=\"400\">\n",
    "</div>\n",
    "\n",
    "As the pulsar rotates about its own axis, radio emission is emitted in beams, and when these beams intersect the Earth, we get a brief \"pulse\" at our radio telescope. The extreme regularity of these pulses means that pulsars function as extremely good clocks. This makes the binary system a great laboratory for relativity. In relativity we often think about how hypothetical clocks behave; with a pulsar, Nature has provided us with an actual clock that has regular \"ticks\" (the pulses) that we can measure!"
   ]
  },
  {
   "cell_type": "markdown",
   "metadata": {},
   "source": [
    "In particular, General Relativity (GR) predicts that under the right conditions, accelerating masses emit gravtiational waves. This is analogous to the way in which accelerating electric charges emit electromagnetic waves. (One just needs to be careful about what the \"right conditions\" are. In electromagnetism, we require a time-dependent [dipole moment](https://en.wikipedia.org/wiki/Dipole) of electric charges to produce electromagnetic radiation. In GR, we require a time-dependent [quadrupole moment](https://en.wikipedia.org/wiki/Quadrupole) of masses to produce gravtiational radiation).\n",
    "\n",
    "A binary system like the Hulse-Taylor binary slowly loses energy by emitting it in the form of gravitational waves. As this happens, the two neutron stars come closer and closer. But this also implies (via Kepler's 3rd Law) that the period of the orbit decreases over time. GR predicts that the period of the binary $P_b$ changes at the rate\n",
    "\n",
    "\\begin{equation}\n",
    "\\dot{P}_b = - \\frac{192 \\pi G^{\\frac{5}{3}}}{5 c^5} \\left( \\frac{P_b}{2\\pi}\\right)^{\\frac{5}{3}} \\left( 1+ \\frac{73}{24} e^2 + \\frac{37}{96} e^4 \\right) \\left(1-e^2 \\right)^{-\\frac{7}{2}} \\frac{m_p m_c}{(m_p+m_c)^{-1/3}}\n",
    "\\end{equation}\n",
    "\n",
    "where $m_p$ is the mass of the pulsar, $m_c$ is the mass of the companion, and $e$ is the [eccentricity](https://en.wikipedia.org/wiki/Eccentricity_(mathematics)) of the orbit (which quantifies how elliptical the orbit is).\n",
    "\n",
    "This quantity is tiny. Plugging in some recent values on the right hand side of this equation gives:\n",
    "\n",
    "\\begin{equation}\n",
    "\\dot{P}_b = -2.402531 \\pm 0.000014 \\times 10^{-12}\n",
    "\\end{equation}\n",
    "\n",
    "Despite how tiny this effect is, pulsar observations are so precise that this is easily measurable!"
   ]
  },
  {
   "cell_type": "markdown",
   "metadata": {},
   "source": [
    "Here's one view of the results, taken from [Weisberg, Nice, Taylor (2010)](https://iopscience.iop.org/article/10.1088/0004-637X/722/2/1030). What's shown here is what's called the \"cumulative shift of periastron time\". The periastron of the binary orbit is the point of the orbit where the two stars are the closest together. Because of the decay of the orbit from gravitational wave emission, the orbit reaches periastron earlier and earlier with every orbit. Over time, this effect accumulates compared to if there wasn't any gravitational wave emission, and that's what the plot shows:\n",
    "\n",
    "\n",
    "<div>\n",
    "<img src=\"images/HT.png\" width=\"400\">\n",
    "</div>\n",
    "\n",
    "One of the remarkable things here is that the solid line labelled \"General Relativity prediction\" is __not__ a direct fit to the points on this plot. Instead, Hulse and Taylor used the detailed pulsar observations to work out things like $m_p$, $m_c$, and $e$, and plugged those numbers into the GR formulae and predicted the curve. Amazing how perfectly GR passes this experimental test! Prior to LIGO's results, the Hulse-Taylor binary was our best evidence for the existence of gravitational waves."
   ]
  },
  {
   "cell_type": "markdown",
   "metadata": {},
   "source": [
    "## Fitting the data and model selection"
   ]
  },
  {
   "cell_type": "markdown",
   "metadata": {},
   "source": [
    "We're going to do things a little bit differently than the way Weisberg, Nice, and Taylor did. We're going to do a Bayesian fit to the plot above. In the repo you will find ``HT.dat``, where we have the data points from the plot. The first column contains the year, the second the values on the vertical axis, and the third column contains the error bars"
   ]
  },
  {
   "cell_type": "markdown",
   "metadata": {},
   "source": [
    "__Exercise__: Write some code to read in the data. Recenter the time coordinates assuming that observations started in $1973$ (i.e., make it so that if there were a datapoint at $1973$, our data would call that $t=0$). Convert all the times into sidereal days. (There are $366.242$ sidereal days per solar year, and there are $86164.1$ seconds in a sidereal day)."
   ]
  },
  {
   "cell_type": "markdown",
   "metadata": {},
   "source": [
    "What I'd like you to do is to put all of this (the reading in of the data and the conversions) into a function that lives in `tools.py`. Then, you can import the function by running the lines below."
   ]
  },
  {
   "cell_type": "code",
   "execution_count": 503,
   "metadata": {},
   "outputs": [
    {
     "name": "stdout",
     "output_type": "stream",
     "text": [
      "The autoreload extension is already loaded. To reload it, use:\n",
      "  %reload_ext autoreload\n"
     ]
    }
   ],
   "source": [
    "import tools\n",
    "# These two lines tell your Jupyter notebook to reload\n",
    "# external modules/functions if they have been modified\n",
    "# This way you don't have to quit your kernel and import\n",
    "# everything again whenever you make a change!\n",
    "%load_ext autoreload\n",
    "%autoreload 2"
   ]
  },
  {
   "cell_type": "code",
   "execution_count": 504,
   "metadata": {},
   "outputs": [],
   "source": [
    "time, s, err = tools.load_dat(\"HT.dat\")"
   ]
  },
  {
   "cell_type": "markdown",
   "metadata": {},
   "source": [
    "__Exercise:__ Write two unit tests for your function! You're welcome to create a new data file with fake data (perhaps calling it `test_data.dat` or something) to help you with this. We'll look in `test_tools.py` for your testing code, but write a brief couple of sentences below describing what your tests are meant to do."
   ]
  },
  {
   "cell_type": "markdown",
   "metadata": {},
   "source": [
    "**The fist test test_load_dat_equal_length, makes sure that all arrays are equal in length. The second test, test_load_dat_tzero, checks if the first element in the time array is equal to zero. The last test, test_load_dat_nonzero_length, checks that the arrays returned have non-zero length.**"
   ]
  },
  {
   "cell_type": "markdown",
   "metadata": {},
   "source": [
    "(You may be alarmed that some of the errors seem to be negative! They're not really negative. I'll explain a little later)"
   ]
  },
  {
   "cell_type": "markdown",
   "metadata": {},
   "source": [
    "Let $d(t)$ be the cumulative shift of the periastron time. We'll consider two different models:\n",
    "\n",
    "\\begin{eqnarray}\n",
    "\\mathcal{M}_1: && d(t) = \\alpha t \\\\\n",
    "\\mathcal{M}_2: && d(t) = \\alpha t + \\beta t^2\n",
    "\\end{eqnarray}\n",
    "\n",
    "Our goal will be to fit the data using these two models, and then to compute the Bayesian evidence in order to decide which model is appropriate for the data."
   ]
  },
  {
   "cell_type": "markdown",
   "metadata": {},
   "source": [
    "As always, our starting point is Bayes' theorem. In this context, we have\n",
    "\n",
    "\\begin{equation}\n",
    "p \\left(\\alpha | \\mathbf{d}, \\mathcal{M}_1 \\right) = \\frac{p(\\mathbf{d}|\\alpha, \\mathcal{M}_1  )p(\\alpha| \\mathcal{M}_1 )}{p(\\mathbf{d}| \\mathcal{M}_1)}\n",
    "\\end{equation}\n",
    "and\n",
    "\\begin{equation}\n",
    "p \\left(\\alpha, \\beta | \\mathbf{d}, \\mathcal{M}_2 \\right) = \\frac{p(\\mathbf{d}|\\alpha, \\beta, \\mathcal{M}_2  )p(\\alpha, \\beta| \\mathcal{M}_2 )}{p(\\mathbf{d}| \\mathcal{M}_2)}\n",
    "\\end{equation}\n",
    "\n",
    "where for notational brevity, I have defined a data vector $\\mathbf{d} \\equiv \\left[ d(t_1), d(t_2), \\dots \\right]$. Working out these posterior probability distributions is equivalent to fitting the data, because once we have the posteriors, we know what the data is telling us about the parameters in the two equations."
   ]
  },
  {
   "cell_type": "markdown",
   "metadata": {},
   "source": [
    "From lecture, we know that the key to model selection is to compare the evidences of the two models, i.e., $p(\\mathbf{d} | \\mathcal{M}_1)$ and $p(\\mathbf{d} | \\mathcal{M}_2)$. In particular, the ratio of the probabilities of the different models being correct (given the data) is given by\n",
    "\n",
    "\\begin{equation}\n",
    "\\frac{p(\\mathcal{M}_1 | \\mathbf{d})}{p(\\mathcal{M}_2 | \\mathbf{d})} = \\frac{p(\\mathbf{d} | \\mathcal{M}_1)}{p(\\mathbf{d} | \\mathcal{M}_2)} \\frac{p(\\mathcal{M}_1 )}{p(\\mathcal{M}_2 )},\n",
    "\\end{equation}\n",
    "so as long as we don't have any theoretical reasons to favour one model over the other (i.e., the second ratio on the right hand side is one), the ratio of the evidences is what we need to compute.\n",
    "\n",
    "If we look back at Bayes' theorem, we see that the functional dependence of the posterior on our model parameters (i.e., $\\alpha$ and $\\beta$) resides entirely in the numerators. The evidence is therefore just the normalization factor for our posterior, so we can compute it by integrating:\n",
    "\n",
    "\\begin{eqnarray}\n",
    "p(\\mathbf{d} | \\mathcal{M}_1) &=& \\int p(\\mathbf{d}|\\alpha, \\mathcal{M}_1  )p(\\alpha| \\mathcal{M}_1 ) d\\alpha  \\\\\n",
    "p(\\mathbf{d} | \\mathcal{M}_2) &=& \\int p(\\mathbf{d}|\\alpha, \\beta, \\mathcal{M}_2  )p(\\alpha, \\beta| \\mathcal{M}_2 ) d\\alpha d\\beta\n",
    "\\end{eqnarray}"
   ]
  },
  {
   "cell_type": "markdown",
   "metadata": {},
   "source": [
    "### Fitting the data"
   ]
  },
  {
   "cell_type": "markdown",
   "metadata": {},
   "source": [
    "First, though, we need to fit the data. And to do that, we need to decide on what our likelihood is going to look like. We'll assume that the measurement errors are independent. This means that the probability distribution of all the data points is equal to the product of the individual data points:\n",
    "\n",
    "\\begin{equation}\n",
    "p(\\mathbf{d} | \\alpha, \\mathcal{M}_1) = \\prod_i p(d(t_i) | \\alpha, \\mathcal{M}_1) \n",
    "\\end{equation}\n",
    "\n",
    "(Henceforth I will just write out the equations for $\\mathcal{M}_1$, the idea being that you can generalize to $\\mathcal{M}_2$ on your own).\n",
    "\n",
    "Next, we need to write down the likelihood function for an individual data point, $p(d(t_i) | \\alpha, \\mathcal{M}_1)$. Let's assume that the measurement errors are Gaussian. This means\n",
    "\n",
    "\\begin{equation}\n",
    "p(d(t_i) | \\alpha, \\mathcal{M}_1) = \\frac{1}{\\sqrt{2 \\pi \\sigma_i^2}} \\exp\\left[-\\frac{\\left[d(t_i) - d_{\\mathcal{M}_1}(\\alpha, t_i)\\right]^2}{2 \\sigma_i^2}\\right],\n",
    "\\end{equation}\n",
    "\n",
    "where $d_{\\mathcal{M}_1}(\\alpha, t) = \\alpha t$ as per our $\\mathcal{M}_1$ model. The quantity $\\sigma_i$ is the error bar on the data point at time $t_i$.\n",
    "\n",
    "But here, we run into a problem! If you look at the data, you'll see that we have error bars only on the first $10$ data points. After that, the \"errors\" are negative, which is just my way of indicating to you that we don't have those error bars. What should we do? It turns out, amazingly, that as long as we make some assumptions, we can also fit for these errors using the data!"
   ]
  },
  {
   "cell_type": "markdown",
   "metadata": {},
   "source": [
    "In this case, the assumption that we will make is that the rest of the data points have some sort of fixed percentage error. That is, for data points where we don't have documented errors, we model the errors as\n",
    "\n",
    "\\begin{equation}\n",
    "\\sigma_i^\\textrm{missing} = 10^\\varepsilon \\times d_{\\mathcal{M}_1}(\\alpha, t_i),\n",
    "\\end{equation}\n",
    "\n",
    "where $\\varepsilon$ is a parameter that controls the order of magnitude of our percentage error. For example, if $\\varepsilon = -1$, then we are assigning $10\\%$ errors to our data points. What value do we use for $\\varepsilon$? The beauty of this is that we don't have to decide! We can introduce it as a new parameter in our model; it is an example of a __*nuisance*__ parameter that is necessary for us to fit the data, but isn't of ultimate scientific interest. Our likelihood function now looks like:\n",
    "\n",
    "\\begin{equation}\n",
    "p(\\mathbf{d} | \\alpha, \\varepsilon, \\mathcal{M}_1) = \\left( \\prod_{i=1}^{10} \\frac{\\exp\\left[-\\frac{\\left[d(t_i) - d_{\\mathcal{M}_1}(\\alpha, t_i)\\right]^2}{2 \\sigma_i^2}\\right]}{\\sqrt{2 \\pi \\sigma_i^2}}  \\right) \\left( \\prod_{i\\ge 11} \\frac{\\exp\\left[-\\frac{\\left[d(t_i) - d_{\\mathcal{M}_1}(\\alpha, t_i)\\right]^2}{2 \\cdot 10^{2\\varepsilon} [d_{\\mathcal{M}_1}(\\alpha, t_i)]^2}\\right]}{\\sqrt{2 \\pi 10^{2\\varepsilon} [d_{\\mathcal{M}_1}(\\alpha, t_i)]^2} }  \\right),\n",
    "\\end{equation}\n",
    "\n",
    "and our posterior now contains one more parameter than before:\n",
    "\n",
    "\\begin{equation}\n",
    "p \\left(\\alpha, \\varepsilon | \\mathbf{d}, \\mathcal{M}_1 \\right) \\propto p(\\mathbf{d}|\\alpha, \\varepsilon, \\mathcal{M}_1  )p(\\alpha, \\varepsilon| \\mathcal{M}_1 )\n",
    "\\end{equation}"
   ]
  },
  {
   "cell_type": "markdown",
   "metadata": {},
   "source": [
    "__Exercise__: Compute the posteriors for the two models, $p \\left(\\alpha, \\varepsilon | \\mathbf{d}, \\mathcal{M}_1 \\right)$ and $p \\left(\\alpha, \\beta, \\varepsilon | \\mathbf{d}, \\mathcal{M}_2 \\right)$. That is, for $\\mathcal{M}_1$ you should end up with a two-dimensional array (one axis representing $\\alpha$ and the other representing $\\varepsilon$), and for $\\mathcal{M}_2$ you should end up with a three-dimensional array. Use the following priors:\n",
    "\n",
    "For $\\mathcal{M}_1$:\n",
    "* For $\\alpha$, use a uniform prior between $-5 \\times 10^{-8}$ and $- 10^{-11}$\n",
    "* For $\\varepsilon$, use a uniform prior between $-10$ and $1$.\n",
    "\n",
    "\n",
    "For $\\mathcal{M}_2$:\n",
    "* For $\\alpha$, use a uniform prior between $3 \\times 10^{-9}$ and $6 \\times 10^{-9}$\n",
    "* For $\\beta$, use a uniform prior between $-4.25 \\times 10^{-12}$ and $-3 \\times 10^{-12}$\n",
    "* For $\\varepsilon$, use a uniform prior between $-10$ and $1$.\n",
    "\n",
    "Some hints:\n",
    "1. Since the priors are uniform priors, they can be easily implemented by just defining the bounds of your ``np.linspace`` to be the edge of the priors, and then multiplying by an appropriate constant factor to make sure that your priors are properly normalized.\n",
    "2. Try not to use nested loops in coding this up. Refer to the Search & Rescue notebook to see how it is possible to do all of this without any nested loops (i.e., one loop is ok; one loop within another is not advisable).\n",
    "3. Try to factor out things where possible. For example, since the product of two exponentials is equal to the exponential of their sum, it is possible to do this exercise such that ``np.exp`` is used only once for each model. Doing this will considerably speed up your code, because exponentials are expensive to evaluate numerically.\n",
    "4. For debugging purposes, I like to invoke ``np.linspace`` with a different ``num`` argument for each of my axes. That way, it's obvious from looking at the shapes of arrays whether or not two axes have been mixed up."
   ]
  },
  {
   "cell_type": "code",
   "execution_count": 505,
   "metadata": {},
   "outputs": [],
   "source": [
    "def prior_param(param_vals):\n",
    "    P = [1/(max(param_vals)-min(param_vals))]*len(param_vals)\n",
    "    return np.array(P)\n",
    "\n",
    "def prior_m1(alpha_len,epsilon_len):\n",
    "    #assume all param vals are in range\n",
    "    alpha_arr = np.array([1]*alpha_len)\n",
    "    epsilon_arr = np.array([1]*epsilon_len)\n",
    "    alpha_grid , epsilon_grid = np.meshgrid(alpha_arr,epsilon_arr)\n",
    "    return alpha_grid , epsilon_grid\n",
    "\n",
    "def prior_m2(alpha_len,beta_len,epsilon_len):\n",
    "    alpha_arr = np.array([1]*alpha_len)\n",
    "    epsilon_arr = np.array([1]*epsilon_len)\n",
    "    beta_arr = np.array([1]*beta_len)\n",
    "    alpha_grid , beta_grid , epsilon_grid = np.meshgrid(alpha_arr,beta_arr,epsilon_arr)\n",
    "    return alpha_grid , beta_grid , epsilon_grid \n",
    "\n",
    "def model_1(t,alpha):\n",
    "    return alpha*t\n",
    "    \n",
    "def model_2(t,alpha,beta):\n",
    "    x = alpha*t\n",
    "    y = beta*(t**2)\n",
    "    #print(\"t model 2:\",t)\n",
    "    #print(\"model2 x+y values:\",x+y)\n",
    "    return x+y\n"
   ]
  },
  {
   "cell_type": "code",
   "execution_count": 506,
   "metadata": {},
   "outputs": [],
   "source": [
    "#functions factoring the exponential \n",
    "\n",
    "def likelihood(time,s,alpha,beta,epsilon,err,model):\n",
    "    if model==1:\n",
    "        alpha_grid, eps_grid = np.meshgrid(alpha, epsilon)\n",
    "        beta_grid = None\n",
    "    if model==2:\n",
    "        alpha_grid, beta_grid, eps_grid = np.meshgrid(alpha, beta, epsilon)\n",
    "    \n",
    "    sigma = err[0:10]\n",
    "    \n",
    "    likelihoodTerm1 = likelihood_term1(time[0:10], s[0:10], alpha_grid, sigma, model, beta_grid)\n",
    "    #print(\"term 1:\",likelihoodTerm1)\n",
    "    likelihoodTerm2 = likelihood_term2(time[10:], s[10:], alpha_grid, eps_grid, model, beta_grid)\n",
    "    #print(\"term 2:\",likelihoodTerm2)\n",
    "    p_likelihood = likelihoodTerm1*likelihoodTerm2\n",
    "    return p_likelihood \n",
    "\n",
    "def likelihood_term1(time, s, alpha, sigma, model, beta):\n",
    "    if model==1:\n",
    "        inner_sum = 0\n",
    "        for i in range(len(sigma)):\n",
    "            x = -(s[i]-model_1(time[i],alpha))**2/(2*(sigma[i]**2))\n",
    "            inner_sum = inner_sum+x\n",
    "    if model==2:\n",
    "        inner_sum = 0\n",
    "        for i in range(len(sigma)):\n",
    "            x = -(s[i]-model_2(time[i],alpha,beta))**2/(2*(sigma[i]**2))\n",
    "            inner_sum = inner_sum+x\n",
    "    exp_term = np.exp(inner_sum)\n",
    "    denominator = 1\n",
    "    for i in range(len(sigma)):\n",
    "        denominator = denominator*(np.sqrt(2*np.pi*(sigma[i]**2)))\n",
    "    p = exp_term/denominator\n",
    "    return p\n",
    "\n",
    "def likelihood_term2(time, s, alpha, epsilon, model, beta):\n",
    "    if model==1:\n",
    "        inner_sum = 0\n",
    "        denominator = 1\n",
    "        for i in range(len(time)):\n",
    "            sigma = (10**(epsilon))*model_1(time[i],alpha)\n",
    "            x = -(s[i]-model_1(time[i],alpha))**2/(2*(sigma**2))\n",
    "            inner_sum = inner_sum+x\n",
    "            denominator = denominator*np.sqrt(2*np.pi*(sigma**2))\n",
    "    if model==2:\n",
    "        inner_sum = 0\n",
    "        denominator = 1\n",
    "        for i in range(len(time)):\n",
    "            sigma = (10**(epsilon))*model_2(time[i],alpha,beta)\n",
    "            x = -(s[i]-model_2(time[i],alpha,beta))**2/(2*(sigma**2))\n",
    "            inner_sum = inner_sum+x\n",
    "            denominator = denominator*np.sqrt(2*np.pi*(sigma**2))\n",
    "    exp_term = np.exp(inner_sum)\n",
    "    p = exp_term/denominator\n",
    "    return p \n",
    "\n",
    "def posterior(time, s, alpha, beta, epsilon, err, model):\n",
    "    alpha_len = len(alpha)\n",
    "    epsilon_len = len(epsilon)\n",
    "    beta_len = len(beta)\n",
    "    if model==1:\n",
    "        alpha_prior , epsilon_prior = prior_m1(alpha_len, epsilon_len)\n",
    "        p_prior = alpha_prior*epsilon_prior\n",
    "        delta = np.abs((alpha[2]-alpha[1])*(epsilon[2]-epsilon[1]))\n",
    "    if model ==2:\n",
    "        p_prior = prior_m2(alpha_len, beta_len, epsilon_len)\n",
    "        alpha_prior , beta_prior, epsilon_prior = prior_m2(alpha_len, beta_len, epsilon_len)\n",
    "        p_prior = alpha_prior*beta_prior*epsilon_prior\n",
    "        delta = np.abs((alpha[2]-alpha[1])*(beta[2]-beta[1])*(epsilon[2]-epsilon[1]))\n",
    "    \n",
    "    p_posterior = likelihood(time,s,alpha,beta,epsilon,err,model)*p_prior\n",
    "    #Normalize\n",
    "    norm = np.sum(p_posterior)*delta\n",
    "    p_posterior = p_posterior/norm\n",
    "    \n",
    "    return p_posterior, norm "
   ]
  },
  {
   "cell_type": "code",
   "execution_count": 507,
   "metadata": {},
   "outputs": [],
   "source": [
    "N=100\n",
    "time[0]=1\n",
    "\n",
    "eps_vals = np.linspace(-10,1,N)\n",
    "\n",
    "#FOR MODEL 1\n",
    "alpha_vals1 = np.linspace(-5*10**(-8),-10**(-11),N)\n",
    "\n",
    "#FOR MODEL 2\n",
    "alpha_vals2 = np.linspace(3*10**(-9),6*10**(-9),N)\n",
    "beta_vals2 = np.linspace(-4.25*10**(-12),-3*10**(-12),N)"
   ]
  },
  {
   "cell_type": "code",
   "execution_count": 508,
   "metadata": {},
   "outputs": [
    {
     "name": "stdout",
     "output_type": "stream",
     "text": [
      "Posterior M1:\n",
      " [[0.00000000e+000 0.00000000e+000 0.00000000e+000 ... 0.00000000e+000\n",
      "  0.00000000e+000 0.00000000e+000]\n",
      " [0.00000000e+000 0.00000000e+000 0.00000000e+000 ... 0.00000000e+000\n",
      "  0.00000000e+000 0.00000000e+000]\n",
      " [0.00000000e+000 0.00000000e+000 0.00000000e+000 ... 0.00000000e+000\n",
      "  0.00000000e+000 0.00000000e+000]\n",
      " ...\n",
      " [0.00000000e+000 0.00000000e+000 0.00000000e+000 ... 9.22828449e-098\n",
      "  1.54163763e-258 0.00000000e+000]\n",
      " [0.00000000e+000 0.00000000e+000 0.00000000e+000 ... 1.45457466e-081\n",
      "  1.41326496e-186 0.00000000e+000]\n",
      " [0.00000000e+000 0.00000000e+000 0.00000000e+000 ... 1.30743884e-072\n",
      "  3.41919692e-144 0.00000000e+000]]\n",
      "Posterior M2:\n",
      " [[[0.00000000e+000 0.00000000e+000 0.00000000e+000 ... 1.85105694e-065\n",
      "   2.40288194e-067 3.11288685e-069]\n",
      "  [0.00000000e+000 0.00000000e+000 0.00000000e+000 ... 2.18194329e-064\n",
      "   2.83224381e-066 3.66898778e-068]\n",
      "  [0.00000000e+000 0.00000000e+000 0.00000000e+000 ... 2.48659640e-063\n",
      "   3.22750589e-065 4.18087732e-067]\n",
      "  ...\n",
      "  [0.00000000e+000 0.00000000e+000 0.00000000e+000 ... 8.98163835e-030\n",
      "   1.16076040e-031 1.49975077e-033]\n",
      "  [0.00000000e+000 0.00000000e+000 0.00000000e+000 ... 4.01219067e-030\n",
      "   5.18514450e-032 6.69935127e-034]\n",
      "  [0.00000000e+000 0.00000000e+000 0.00000000e+000 ... 1.73286774e-030\n",
      "   2.23942988e-032 2.89337690e-034]]\n",
      "\n",
      " [[0.00000000e+000 0.00000000e+000 0.00000000e+000 ... 1.85274730e-064\n",
      "   2.40480188e-066 3.11516106e-068]\n",
      "  [0.00000000e+000 0.00000000e+000 0.00000000e+000 ... 2.11811812e-063\n",
      "   2.74908334e-065 3.56101573e-067]\n",
      "  [0.00000000e+000 0.00000000e+000 0.00000000e+000 ... 2.34111375e-062\n",
      "   3.03832974e-064 3.93555240e-066]\n",
      "  ...\n",
      "  [0.00000000e+000 0.00000000e+000 0.00000000e+000 ... 4.63251313e-030\n",
      "   5.98664430e-032 7.73477785e-034]\n",
      "  [0.00000000e+000 0.00000000e+000 0.00000000e+000 ... 2.00715667e-030\n",
      "   2.59382731e-032 3.35120694e-034]\n",
      "  [0.00000000e+000 0.00000000e+000 0.00000000e+000 ... 8.40822230e-031\n",
      "   1.08656935e-032 1.40382744e-034]]\n",
      "\n",
      " [[0.00000000e+000 0.00000000e+000 0.00000000e+000 ... 1.80321680e-063\n",
      "   2.34024735e-065 3.03133136e-067]\n",
      "  [0.00000000e+000 0.00000000e+000 0.00000000e+000 ... 1.99936716e-062\n",
      "   2.59466374e-064 3.36076058e-066]\n",
      "  [0.00000000e+000 0.00000000e+000 0.00000000e+000 ... 2.14326418e-061\n",
      "   2.78124338e-063 3.60230394e-065]\n",
      "  ...\n",
      "  [0.00000000e+000 0.00000000e+000 0.00000000e+000 ... 2.32357977e-030\n",
      "   3.00265457e-032 3.87934467e-034]\n",
      "  [0.00000000e+000 0.00000000e+000 0.00000000e+000 ... 9.76475810e-031\n",
      "   1.26183624e-032 1.63024256e-034]\n",
      "  [0.00000000e+000 0.00000000e+000 0.00000000e+000 ... 3.96756585e-031\n",
      "   5.12695936e-033 6.62377607e-035]]\n",
      "\n",
      " ...\n",
      "\n",
      " [[0.00000000e+000 0.00000000e+000 0.00000000e+000 ... 6.11108046e-025\n",
      "   7.91367725e-027 1.02371339e-028]\n",
      "  [0.00000000e+000 0.00000000e+000 0.00000000e+000 ... 3.72074547e-025\n",
      "   4.81866239e-027 6.23373384e-029]\n",
      "  [0.00000000e+000 0.00000000e+000 0.00000000e+000 ... 2.19035942e-025\n",
      "   2.83693431e-027 3.67023126e-029]\n",
      "  ...\n",
      "  [0.00000000e+000 0.00000000e+000 0.00000000e+000 ... 7.52826084e-114\n",
      "   1.01583071e-115 1.34688955e-117]\n",
      "  [0.00000000e+000 0.00000000e+000 0.00000000e+000 ... 1.76105943e-115\n",
      "   2.37942521e-117 3.15736820e-119]\n",
      "  [0.00000000e+000 0.00000000e+000 0.00000000e+000 ... 3.98393748e-117\n",
      "   5.39016309e-119 7.15829477e-121]]\n",
      "\n",
      " [[0.00000000e+000 0.00000000e+000 0.00000000e+000 ... 4.08059170e-025\n",
      "   5.28525683e-027 6.83778872e-029]\n",
      "  [0.00000000e+000 0.00000000e+000 0.00000000e+000 ... 2.40991960e-025\n",
      "   3.12164621e-027 4.03883534e-029]\n",
      "  [0.00000000e+000 0.00000000e+000 0.00000000e+000 ... 1.37611933e-025\n",
      "   1.78269312e-027 2.30660193e-029]\n",
      "  ...\n",
      "  [0.00000000e+000 0.00000000e+000 0.00000000e+000 ... 2.64510709e-115\n",
      "   3.57613650e-117 4.74712629e-119]\n",
      "  [0.00000000e+000 0.00000000e+000 0.00000000e+000 ... 6.00356702e-117\n",
      "   8.12789328e-119 1.07982422e-120]\n",
      "  [0.00000000e+000 0.00000000e+000 0.00000000e+000 ... 1.31776009e-118\n",
      "   1.78658585e-120 2.37558180e-122]]\n",
      "\n",
      " [[0.00000000e+000 0.00000000e+000 0.00000000e+000 ... 2.65015752e-025\n",
      "   3.43321710e-027 4.44224777e-029]\n",
      "  [0.00000000e+000 0.00000000e+000 0.00000000e+000 ... 1.51816724e-025\n",
      "   1.96693223e-027 2.54515953e-029]\n",
      "  [0.00000000e+000 0.00000000e+000 0.00000000e+000 ... 8.40896128e-026\n",
      "   1.08956605e-027 1.40995097e-029]\n",
      "  ...\n",
      "  [0.00000000e+000 0.00000000e+000 0.00000000e+000 ... 9.04302839e-117\n",
      "   1.22508447e-118 1.62821244e-120]\n",
      "  [0.00000000e+000 0.00000000e+000 0.00000000e+000 ... 1.99144966e-118\n",
      "   2.70176244e-120 3.59391069e-122]\n",
      "  [0.00000000e+000 0.00000000e+000 0.00000000e+000 ... 4.24118634e-120\n",
      "   5.76252990e-122 7.67223303e-124]]]\n"
     ]
    }
   ],
   "source": [
    "#p_posterior_m1, norm1 = posterior_m1(time, s, alpha_vals2, eps_vals, err)\n",
    "p_posterior_m1, norm1 = posterior(time, s, alpha_vals1, beta_vals2, eps_vals, err, model=1)\n",
    "print('Posterior M1:\\n',p_posterior_m1)\n",
    "\n",
    "#p_posterior_m2, norm2 = posterior_m2(time, s, alpha_vals2, beta_vals2, eps_vals, err)\n",
    "p_posterior_m2, norm2 = posterior(time, s, alpha_vals2, beta_vals2, eps_vals, err, model=2)\n",
    "print('Posterior M2:\\n',p_posterior_m2)\n"
   ]
  },
  {
   "cell_type": "markdown",
   "metadata": {},
   "source": [
    "Now we want to visualize our results. It's very hard to visualize a 3D array, so we will want to marginalize over some of our variables. For example, if I am only interested the posterior distribution of $\\varepsilon$, then I integrate over all the other parameters. For $\\mathcal{M}_1$, this becomes\n",
    "\n",
    "\\begin{equation}\n",
    "p \\left(\\varepsilon | \\mathbf{d}, \\mathcal{M}_1 \\right) = \\int p \\left(\\alpha, \\varepsilon | \\mathbf{d}, \\mathcal{M}_1 \\right) d\\alpha\n",
    "\\end{equation}"
   ]
  },
  {
   "cell_type": "markdown",
   "metadata": {},
   "source": [
    "__Exercise__: Plot the marginalized distributions for $\\varepsilon$ for both $\\mathcal{M}_1$ and $\\mathcal{M}_2$. There's no need to do a fancy numerical integral---it's sufficient to simply sum up the arrays along appropriate axes and to multiply by the appropriate differential elements like $d\\alpha$ (or some $\\Delta \\alpha$, since this is a discrete numerical approximation)."
   ]
  },
  {
   "cell_type": "code",
   "execution_count": 509,
   "metadata": {},
   "outputs": [
    {
     "data": {
      "image/png": "[encoded data removed]",
      "text/plain": [
       "<Figure size 432x288 with 1 Axes>"
      ]
     },
     "metadata": {
      "needs_background": "light"
     },
     "output_type": "display_data"
    }
   ],
   "source": [
    "## Your code here\n",
    "#Get the differential element sizes\n",
    "da1 = alpha_vals1[1]-alpha_vals1[0]\n",
    "da2 = alpha_vals2[1]-alpha_vals2[0]\n",
    "de = eps_vals[1]-eps_vals[0]\n",
    "db = beta_vals2[1]-beta_vals2[0]\n",
    "\n",
    "#Evaluate sums for marginalized distribution of each model\n",
    "posterior_marg_eps_m1 = np.sum(p_posterior_m1, axis=0)*da1\n",
    "\n",
    "#Not 100% sure if the axis should be 0 or 1 for the beta sum, but I think after we sum alpha then beta should become the new 0 axis\n",
    "posterior_marg_eps_m2 = np.sum(np.sum(p_posterior_m2, axis=0)*da2, axis=0)*db\n",
    "\n",
    "#Plot the marginalized distributions\n",
    "import matplotlib.pyplot as plt\n",
    "plt.plot(eps_vals, posterior_marg_eps_m1, label='M1')\n",
    "plt.plot(eps_vals, posterior_marg_eps_m2, label='M2')\n",
    "plt.xlabel('$\\epsilon$')\n",
    "plt.ylabel('Probability')\n",
    "plt.title('Marginalized Probability Distributions for $\\epsilon$')\n",
    "plt.legend()\n",
    "plt.show()"
   ]
  },
  {
   "cell_type": "markdown",
   "metadata": {},
   "source": [
    "You should find that the data really does prefer a particular value for $\\varepsilon$, so it's possible to get a sense for the error bars from the data! This may seem like magic---how can we figure out the error bars with no error information to begin with? What's really happening is that our analysis is using the scatter of our data points. Imagine I gave you a bunch of points with no error bars and asked you to fit a straight line through them. You could probably look at the distance between your best-fit line and the data points and roughly guess how big the error bars are. This is essentially what's going on here, in a more statistically disciplined fashion. In general, it's best if you have accurately estimated error bars from your measurements that you can just use. But this is a handy trick if you're in a pinch. Another interesting technique is to multiply all parameters with some parameter $\\eta$, such that $\\sigma_i \\rightarrow \\eta \\sigma_i$. This new parameter is now another free parameter in our fitting exercise. If the posterior is peaked around $\\eta \\approx 1$, then the errors have been correctly estimated. If $\\eta > 1$, the errors have been underestimated."
   ]
  },
  {
   "cell_type": "markdown",
   "metadata": {},
   "source": [
    "__Question__: Compare $p \\left(\\varepsilon | \\mathbf{d}, \\mathcal{M}_1 \\right)$ and $p \\left(\\varepsilon | \\mathbf{d}, \\mathcal{M}_2 \\right)$. Why do you think this is? (Hint: look at the data. Just from eyeballing the results, do you think $\\mathcal{M}_1$ is likely to be a good model? It may also help to do the next two questions before answering this)"
   ]
  },
  {
   "cell_type": "markdown",
   "metadata": {},
   "source": [
    "**We expect model 2 to be a better model, simply because it is more likely to have a smaller epsilon value, corresponding to smaller errorbars on the values. For example, Model 1 predicts a likely epsilon around 0 which sets the sigma=d(alpha,t), whereas Model 2 predicts a likely epsilon around -2 which sets sigma=0.01d(alpha,t) which is much smaller.**"
   ]
  },
  {
   "cell_type": "markdown",
   "metadata": {},
   "source": [
    "Ultimately, $\\varepsilon$ is a nuisance parameter, so while it's interesting to look at to help us understand the data, what we really care about are parameters like $\\alpha$ and $\\beta$."
   ]
  },
  {
   "cell_type": "markdown",
   "metadata": {},
   "source": [
    "__Exercise__: Marginalize over $\\varepsilon$ to compute $p \\left(\\alpha, \\beta | \\mathbf{d}, \\mathcal{M}_2 \\right)$. Make a contour plot of your results. Are the best-fit values of $\\alpha$ and $\\beta$ correlated with one another?"
   ]
  },
  {
   "cell_type": "code",
   "execution_count": 510,
   "metadata": {},
   "outputs": [
    {
     "data": {
      "image/png": "[encoded data removed]",
      "text/plain": [
       "<Figure size 432x288 with 2 Axes>"
      ]
     },
     "metadata": {
      "needs_background": "light"
     },
     "output_type": "display_data"
    }
   ],
   "source": [
    "## Your code/answer here\n",
    "posterior_marg_m2 = np.sum(p_posterior_m2, axis=2)*de\n",
    "\n",
    "alpha_grid, beta_grid = np.meshgrid(alpha_vals2, beta_vals2)\n",
    "\n",
    "plt.contourf(alpha_grid, beta_grid, posterior_marg_m2)\n",
    "plt.title('Posterior Probability Marginalized Over $\\epsilon$')\n",
    "plt.xlim([4*10**(-9),4.5*10**(-9)])\n",
    "plt.ylim([-3.8*10**(-12),-3.65*10**(-12)])\n",
    "plt.colorbar()\n",
    "plt.xlabel('Alpha')\n",
    "plt.ylabel('Beta')\n",
    "plt.show()"
   ]
  },
  {
   "cell_type": "markdown",
   "metadata": {},
   "source": [
    "**Yes the best fit values of alpha and beta are correlated.**"
   ]
  },
  {
   "cell_type": "markdown",
   "metadata": {},
   "source": [
    "__Exercise__: Find the values for $\\alpha$, $\\beta$, and $\\varepsilon$ that maximize the posterior for the two models (these values are known as MAP or \"maximum *a posteriori*\" values). Use these values to plot your best-fit curves, as well as the original data points and their error bars (now that you have them for every point)."
   ]
  },
  {
   "cell_type": "code",
   "execution_count": 512,
   "metadata": {},
   "outputs": [
    {
     "name": "stdout",
     "output_type": "stream",
     "text": [
      "Best fit M1 alpha: -1.5248484848484815e-09\n",
      "Best fit M1 epsilon: 0.11111111111111072\n",
      "Best fit M2 alpha: 4.333333333333334e-09\n",
      "Best fit M2 epsilon: -2.333333333333334\n",
      "Best fit M2 beta: -3.694444444444444e-12\n"
     ]
    }
   ],
   "source": [
    "## Your code here\n",
    "#Get the indices of the MAP values for each model\n",
    "ind_max_m1 = np.unravel_index(np.argmax(p_posterior_m1, axis=None), p_posterior_m1.shape)\n",
    "ind_max_m2 = np.unravel_index(np.argmax(p_posterior_m2, axis=None), p_posterior_m2.shape)\n",
    "\n",
    "#Extract the corresponding parameter values\n",
    "alpha_MAP_m1 = alpha_vals1[ind_max_m1[0]]\n",
    "eps_MAP_m1 = eps_vals[ind_max_m1[1]]\n",
    "\n",
    "alpha_MAP_m2 = alpha_vals2[ind_max_m2[0]]\n",
    "beta_MAP_m2 = beta_vals2[ind_max_m2[1]]\n",
    "eps_MAP_m2 = eps_vals[ind_max_m2[2]]\n",
    "\n",
    "m1_fit = model_1(time, alpha_MAP_m1)\n",
    "m2_fit = model_2(time, alpha_MAP_m2, beta_MAP_m2)\n",
    "\n",
    "\n",
    "err_m1 = np.copy(err)\n",
    "err_m2 = np.copy(err)\n",
    "err_m1[10:] = np.abs(10**(eps_MAP_m1)*model_1(time[10:],alpha_MAP_m1))\n",
    "err_m2[10:] = np.abs(10**(eps_MAP_m2)*model_2(time[10:],alpha_MAP_m2, beta_MAP_m2))\n",
    "\n",
    "print(\"Best fit M1 alpha:\",alpha_MAP_m1)\n",
    "print(\"Best fit M1 epsilon:\",eps_MAP_m1)\n",
    "print(\"Best fit M2 alpha:\",alpha_MAP_m2)\n",
    "print(\"Best fit M2 epsilon:\",eps_MAP_m2)\n",
    "print(\"Best fit M2 beta:\",beta_MAP_m2)\n"
   ]
  },
  {
   "cell_type": "code",
   "execution_count": 517,
   "metadata": {},
   "outputs": [
    {
     "data": {
      "image/png": "[encoded data removed]",
      "text/plain": [
       "<Figure size 432x288 with 1 Axes>"
      ]
     },
     "metadata": {
      "needs_background": "light"
     },
     "output_type": "display_data"
    },
    {
     "name": "stdout",
     "output_type": "stream",
     "text": [
      "New errors calculated: [3.16904894e-06 2.53523915e-06 1.90142937e-06 1.90142937e-06\n",
      " 1.26761958e-06 1.26761958e-06 1.26761958e-06 6.33809789e-07\n",
      " 6.33809789e-07 1.26761958e-06 7.65230310e-08 9.39256889e-08\n",
      " 1.18747942e-07 1.39957678e-07 1.76652448e-07 2.17460222e-07\n",
      " 2.66668657e-07 3.59560082e-07 4.38151489e-07 5.12450544e-07\n",
      " 6.05318494e-07 7.12807599e-07 1.31364890e-06 1.42975313e-06\n",
      " 1.67664605e-06 1.90873846e-06 2.34148671e-06]\n"
     ]
    }
   ],
   "source": [
    "plt.plot(time, s, 'o', label='Data')\n",
    "plt.plot(time, m1_fit, label='M1 (Linear)')\n",
    "plt.plot(time, m2_fit, label='M2 (Quadratic)')\n",
    "plt.errorbar(time, s, yerr= err_m2, linewidth=2,fmt=',',color='red',label='errors') #Not sure which errorbars to use, where to put them, or what markerstyle to use\n",
    "plt.legend()\n",
    "plt.xlabel('Time (s)')\n",
    "plt.ylabel('Cumulative Shift of Perioastron Time (s)')\n",
    "plt.show()\n",
    "print(\"New errors calculated:\",err_m2)"
   ]
  },
  {
   "cell_type": "markdown",
   "metadata": {},
   "source": [
    "### Model selection"
   ]
  },
  {
   "cell_type": "markdown",
   "metadata": {},
   "source": [
    "Let's now compute the Bayesian evidences to help us decide on an appropriate model."
   ]
  },
  {
   "cell_type": "markdown",
   "metadata": {},
   "source": [
    "__Exercise__: Compute $p(\\mathbf{d} | \\mathcal{M}_1)$ and $p(\\mathbf{d} | \\mathcal{M}_2)$. If you make use of intermediate results you had from before, this should just be a matter of doing a numerical integral over an array you already have. (As before, though, there's no need to use a fancy numerical integration technique. Riemann sums are fine)."
   ]
  },
  {
   "cell_type": "code",
   "execution_count": 518,
   "metadata": {},
   "outputs": [
    {
     "name": "stdout",
     "output_type": "stream",
     "text": [
      "Evidence Against M1: 7.411618967056851e+29\n"
     ]
    }
   ],
   "source": [
    "## Your code here\n",
    "#I think we can just use the Riemann sums we already computed when calculating the posterior\n",
    "evidence_m1 = norm1\n",
    "evidence_m2 = norm2\n",
    "\n",
    "evidence_ratio = np.abs(norm2/norm1)\n",
    "print('Evidence Against M1:', evidence_ratio)"
   ]
  },
  {
   "cell_type": "markdown",
   "metadata": {},
   "source": [
    "How lopsided do the evidences need to be in order for one to favour one model over another? There's no hard and fast rule, but everyone seems to quote the (arbitrary) rules of thumb written by [Kass & Raftery (1995)](https://www.stat.washington.edu/raftery/Research/PDF/kass1995.pdf), who suggest the following:\n",
    "\n",
    "|  $\\frac{p(\\mathbf{d} | \\mathcal{M}_2)}{p(\\mathbf{d} | \\mathcal{M}_1)}$  | Evidence against $\\mathcal{M}_1$  |\n",
    "|---|---|\n",
    "| 1 to 3.2  |  Not worth more than a bare mention |\n",
    "|  3.2 to 10 | Substantial  |\n",
    "|  10 to 100 |  Strong |\n",
    "|  > 100 |  Decisive |\n"
   ]
  },
  {
   "cell_type": "markdown",
   "metadata": {},
   "source": [
    "__Question__: Which model is favoured?"
   ]
  },
  {
   "cell_type": "markdown",
   "metadata": {},
   "source": [
    "**M2 is much more greatly favoured/favored.**"
   ]
  },
  {
   "cell_type": "markdown",
   "metadata": {},
   "source": [
    "## Discussion"
   ]
  },
  {
   "cell_type": "markdown",
   "metadata": {},
   "source": [
    "In completing this exercise, you probably found that with a reasonably fine ``np.linspace`` grid, it took a little time for your code to run. This problem gets worse and worse as we include more and more parameters in our model because of what's known as \"the curse of dimensionality\". For example, if we have two parameters $\\alpha$ and $\\beta$ and we want to evaluate the posterior on a grid with $100$ points along the $\\alpha$ axis and $100$ points along the $\\beta$ axis, we end up having to evaluate $N = 100^2$ points. But if we had a $12$ free parameters, we would need to evaluate $N = 100^{12}$ points! This is not very practical from a computational standpoint. Next lecture we will begin learning about __*Markov Chain Monte Carlo*__ techniques that allow us to bypass this problem."
   ]
  },
  {
   "cell_type": "markdown",
   "metadata": {},
   "source": [
    "## Submitting your work"
   ]
  },
  {
   "cell_type": "markdown",
   "metadata": {},
   "source": [
    "Don't forget to push a copy of your completed notebook to your Github repo for marking!"
   ]
  },
  {
   "cell_type": "code",
   "execution_count": null,
   "metadata": {},
   "outputs": [],
   "source": []
  }
 ],
 "metadata": {
  "kernelspec": {
   "display_name": "Python 3",
   "language": "python",
   "name": "python3"
  },
  "language_info": {
   "codemirror_mode": {
    "name": "ipython",
    "version": 3
   },
   "file_extension": ".py",
   "mimetype": "text/x-python",
   "name": "python",
   "nbconvert_exporter": "python",
   "pygments_lexer": "ipython3",
   "version": "3.7.4"
  }
 },
 "nbformat": 4,
 "nbformat_minor": 4
}
