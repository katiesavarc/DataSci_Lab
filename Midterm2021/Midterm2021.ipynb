{
 "cells": [
  {
   "cell_type": "markdown",
   "metadata": {},
   "source": [
    "# PHYS 321 Midterm 2021"
   ]
  },
  {
   "cell_type": "markdown",
   "metadata": {},
   "source": [
    "This midterm exam is an open-book, open-resource exam. However, you may not collaborate with anyone. Please send clarification questions and hint requests to me at [adrian.liu@mcgill.ca](mailto:adrian.liu2@mcgill.ca). Submission is via Github (more details below). The exam is due at 11:59:59 Eastern on February 25th, 2020.\n",
    "\n",
    "You may copy and paste code from your previous assignments, but __you must cite your sources__. E.g., if you want to use a function that you wrote in Coding Lab 02, please include the comment \"this function was copied from Coding Lab 02\"\n",
    "\n",
    "For questions that are more algebraic or conceptual, you may either: 1) type your answer here, 2) do your work on paper and scan it, or 3) write up your answer in a separate pdf document. If you decide to go with option 2 or 3 on any particular question, be sure to let us know which document to look at. (Or with option 2 you can also embed the image file in the notebook itself)."
   ]
  },
  {
   "cell_type": "markdown",
   "metadata": {},
   "source": [
    "## Question 1"
   ]
  },
  {
   "cell_type": "markdown",
   "metadata": {},
   "source": [
    "Place all of the midterm files in a folder within your Github repo. Then:"
   ]
  },
  {
   "cell_type": "markdown",
   "metadata": {},
   "source": [
    "__a)__ Perform an initial commit locally and push to your Github repo. Write down the commands you used below."
   ]
  },
  {
   "cell_type": "markdown",
   "metadata": {},
   "source": [
    "## Your answer here\n",
    "mv Midterm 2020/ DataSci_Lab\n",
    "\n",
    "git pull origin main\n",
    "\n",
    "git add Midterm2020\n",
    "\n",
    "git commit -m \"added midterm folder\"\n",
    "\n",
    "git push origin main"
   ]
  },
  {
   "cell_type": "markdown",
   "metadata": {},
   "source": [
    "__b)__ Create a file named ``secret_treasure.txt``. Commit it. Now create a new branch. Write down the commands that you used."
   ]
  },
  {
   "cell_type": "markdown",
   "metadata": {},
   "source": [
    "## Your answer here\n",
    "\n",
    "touch secret_treasure.txt\n",
    "\n",
    "git add secret_treasure.txt\n",
    "\n",
    "git commit -m \"create secret_treasure.txt\"\n",
    "\n",
    "git checkout -b \"new_branch\""
   ]
  },
  {
   "cell_type": "markdown",
   "metadata": {},
   "source": [
    "__c)__ Add the text ``I'm a Bayesian`` to the file in this new branch. In your old branch, add the text ``I'm a Frequentist``. Write down the commands that you used."
   ]
  },
  {
   "cell_type": "markdown",
   "metadata": {},
   "source": [
    "## Your answer here\n",
    "vi secret_treasure.txt\n",
    "\n",
    "(add \"I'm a bayesian\" in vi using insert command 'i' and 'wq' to write and quit)\n",
    "\n",
    "git add secret_treasure.txt\n",
    "\n",
    "git commit -m \"modified secret_treasure.txt\"\n",
    "\n",
    "git checkout main\n",
    "\n",
    "vi secret_treasure.txt\n",
    "\n",
    "(add \"I'm a frequentist\" in vi using insert command 'i' and 'wq' to write and quit)\n",
    "\n",
    "git add secret_treasure.txt\n",
    "\n",
    "git commit -m \"modified secret_treasure.txt\""
   ]
  },
  {
   "cell_type": "markdown",
   "metadata": {},
   "source": [
    "__d)__ Merge the changes from your new branch to your old branch. If you get a merge conflict, deal with it in whatever way you want. Write down the commands that you used."
   ]
  },
  {
   "cell_type": "markdown",
   "metadata": {},
   "source": [
    "## Your answer here\n",
    "git merge new_branch\n",
    "\n",
    "\"Auto-merging Midterm2021/secret_treasure.txt\n",
    "CONFLICT (content): Merge conflict in Midterm2021/secret_treasure.txt\n",
    "Automatic merge failed; fix conflicts and then commit the result.\"\n",
    "\n",
    "vi secret_treasure.txt\n",
    "\n",
    "delete <<<< and ====== HEAD things etc. "
   ]
  },
  {
   "cell_type": "markdown",
   "metadata": {},
   "source": [
    "Push your local changes to your Github repo to complete this problem."
   ]
  },
  {
   "cell_type": "markdown",
   "metadata": {},
   "source": [
    "## Question 2"
   ]
  },
  {
   "cell_type": "markdown",
   "metadata": {},
   "source": [
    "In Coding Lab 01, we discussed how the sidereal day is shorter than a solar day by 4 minutes. Is it possible for the sidereal day on some planet to be __longer__ than the solar day? Explain. If it's helpful, you may include a diagram of some sort."
   ]
  },
  {
   "cell_type": "markdown",
   "metadata": {},
   "source": [
    "Yes -- should the earth be orbiting the sun in the opposite direction (with the spin of the earth remaining as is), the solar day would be shorter than the sidereal day."
   ]
  },
  {
   "cell_type": "markdown",
   "metadata": {},
   "source": [
    "## Question 3"
   ]
  },
  {
   "cell_type": "markdown",
   "metadata": {},
   "source": [
    " Consider the following HR diagram:"
   ]
  },
  {
   "cell_type": "markdown",
   "metadata": {},
   "source": [
    "<div>\n",
    "<img src=\"HR_filled.png\" width=\"400\">\n",
    "</div>"
   ]
  },
  {
   "cell_type": "markdown",
   "metadata": {},
   "source": [
    " The $b$ colour is measured through a filter that permits light to pass through if it is within the wavelength range $300\\,\\textrm{nm} \\lesssim \\lambda \\lesssim 650\\,\\textrm{nm}$. The $r$ (``red\") filter allows light in the range $650\\,\\textrm{nm} \\lesssim \\lambda \\lesssim 1000\\,\\textrm{nm}$ to pass through. The $g$ filter covers both ranges."
   ]
  },
  {
   "cell_type": "markdown",
   "metadata": {},
   "source": [
    "__a)__ Which side (the left side or the right side) of the HR diagrams corresponds to bluer stars?"
   ]
  },
  {
   "cell_type": "markdown",
   "metadata": {},
   "source": [
    "left"
   ]
  },
  {
   "cell_type": "markdown",
   "metadata": {},
   "source": [
    "__b)__ Star $\\#1$ has a $(b-r)$ colour of 3.5, while Star $\\#2$ has a $(b-r)$ colour of 2. Which star has the higher luminosity? What is the ratio of their luminosities?"
   ]
  },
  {
   "cell_type": "markdown",
   "metadata": {},
   "source": [
    "star 2. L_(2)/L_(1) is roughly 6.3 -- star 2 is 6.3 times brighter than star 1."
   ]
  },
  {
   "cell_type": "code",
   "execution_count": 200,
   "metadata": {},
   "outputs": [
    {
     "data": {
      "text/plain": [
       "6.309573444801933"
      ]
     },
     "execution_count": 200,
     "metadata": {},
     "output_type": "execute_result"
    }
   ],
   "source": [
    "m2=8\n",
    "m1=10\n",
    "ratio = 10**((m2-m1)/(-2.5))\n",
    "ratio"
   ]
  },
  {
   "cell_type": "markdown",
   "metadata": {},
   "source": [
    "__c)__ Suppose you see a star with an apparent $g$-band magnitude of 8. The star has $(b-r)$ colour of $1$. How far away is this star?"
   ]
  },
  {
   "cell_type": "markdown",
   "metadata": {},
   "source": [
    "39.8 parsecs"
   ]
  },
  {
   "cell_type": "markdown",
   "metadata": {},
   "source": [
    "__d)__ In the previous part, were you computing an angular diameter distance or a luminosity distance? Suppose you had computed the other one instead. Would the answer have been very similar, or would it have been quite different?"
   ]
  },
  {
   "cell_type": "markdown",
   "metadata": {},
   "source": [
    "We were computing luminosity distance. If we had computed the angular diameter distance, we would not have been able to tell the difference because the object is too close. "
   ]
  },
  {
   "cell_type": "markdown",
   "metadata": {},
   "source": [
    "__e)__ What is the redshift at which an object's angular diameter distance and its luminosity distance differ by $10\\%$? How old was our Universe when it emitted the light that we see today? How much smaller or larger was the universe back then compared to now?"
   ]
  },
  {
   "cell_type": "code",
   "execution_count": 201,
   "metadata": {},
   "outputs": [
    {
     "data": {
      "text/plain": [
       "Text(0, 0.5, 'distance, Mpc')"
      ]
     },
     "execution_count": 201,
     "metadata": {},
     "output_type": "execute_result"
    },
    {
     "data": {
      "image/png": "[encoded data removed]",
      "text/plain": [
       "<Figure size 432x288 with 1 Axes>"
      ]
     },
     "metadata": {
      "needs_background": "light"
     },
     "output_type": "display_data"
    }
   ],
   "source": [
    "from astropy.cosmology import Planck15\n",
    "import matplotlib.pyplot as plt\n",
    "import numpy as np\n",
    "#COPIED FROM CODING LAB 2\n",
    "\n",
    "cosmo = Planck15\n",
    "zmin = 0.00001\n",
    "zmax = 0.1\n",
    "n=100\n",
    "\n",
    "\n",
    "def plot_DL(cosmo,zmin,zmax,n,scale):\n",
    "    z_arr = np.linspace(zmin,zmax,n).tolist()\n",
    "    D_l = cosmo.luminosity_distance(z_arr).value.tolist()\n",
    "    if scale=='lin':\n",
    "        plt.plot(z_arr,D_l,color='blue',label='$D_L$')\n",
    "    if scale=='log':\n",
    "        j=0\n",
    "        for i in range(len(z_arr)):\n",
    "            z = z_arr[j]\n",
    "            d = D_l[j]\n",
    "            if z==0 or d==0:\n",
    "                del z_arr[j]\n",
    "                del D_l[j]\n",
    "            else:\n",
    "                j=j+1\n",
    "        plt.plot(np.log(z_arr),np.log(D_l),color='blue',label='$D_L$')\n",
    "    return D_l\n",
    "\n",
    "def plot_DA(cosmo,zmin,zmax,n,scale):\n",
    "    z_arr = np.linspace(zmin,zmax,n).tolist()\n",
    "    D_a = cosmo.angular_diameter_distance(z_arr).value.tolist()\n",
    "    if scale=='lin':\n",
    "        plt.plot(z_arr,D_a,color='red',label='$D_A$')\n",
    "    if scale=='log':\n",
    "        j=0\n",
    "        for i in range(len(z_arr)):\n",
    "            z = z_arr[j]\n",
    "            d = D_a[j]\n",
    "            if z==0 or d==0:\n",
    "                del z_arr[j]\n",
    "                del D_a[j]\n",
    "            else:\n",
    "                j=j+1\n",
    "        plt.plot(np.log(z_arr),np.log(D_a),color='red',label='$D_A$')\n",
    "    return D_a\n",
    "\n",
    "D_l = plot_DL(cosmo,zmin,zmax,n,'lin')\n",
    "D_a = plot_DA(cosmo,zmin,zmax,n,'lin')\n",
    "plt.legend()\n",
    "plt.title(\"$D_L$ and $D_A$ as a function of redshift, Linear Space\")\n",
    "plt.xlabel('redshift, z')\n",
    "plt.ylabel('distance, Mpc')"
   ]
  },
  {
   "cell_type": "code",
   "execution_count": 202,
   "metadata": {},
   "outputs": [
    {
     "name": "stdout",
     "output_type": "stream",
     "text": [
      "D_L: 251.33585111981893\n",
      "D_a: 226.0060628559762\n",
      "Redshift at which there is a 10% difference: 0.05455000000000001\n",
      "Age of universe at this redshift: 13.040646222743579 Gyr\n",
      "The universe was this fraction of the size compared to today: 0.9482717746906263\n"
     ]
    }
   ],
   "source": [
    "i=0\n",
    "z= np.linspace(zmin,zmax,n)\n",
    "for d in D_l:\n",
    "    ratio = D_a[i]/d\n",
    "    if ratio<0.9:\n",
    "        print(\"D_L:\",d)\n",
    "        print(\"D_a:\",D_a[i])\n",
    "        print(\"Redshift at which there is a 10% difference:\",z[i])\n",
    "        print(\"Age of universe at this redshift:\",Planck15.age(z[i]))\n",
    "        a = 1/(1+z[i])\n",
    "        print(\"The universe was this fraction of the size compared to today:\",a)\n",
    "        break\n",
    "    else:\n",
    "        i=i+1\n"
   ]
  },
  {
   "cell_type": "markdown",
   "metadata": {},
   "source": [
    "## Question 4"
   ]
  },
  {
   "cell_type": "markdown",
   "metadata": {},
   "source": [
    "You and your friends are on holiday in southern California, where it doesn’t rain very much: 5 out of 365 days per year. You want to go to the beach tomorrow. Unfortunately, the weather forecast says that it will rain tomorrow. When it actually rains, the forecast is correct 90\\% of the time. When it doesn’t, there is a 10\\% chance that rain is incorrectly predicted by the forecast. What is the probability that it will rain tomorrow, knowing what the weather forecast says?"
   ]
  },
  {
   "cell_type": "code",
   "execution_count": 203,
   "metadata": {},
   "outputs": [
    {
     "name": "stdout",
     "output_type": "stream",
     "text": [
      "Probability that it will rain tomorrow knowign the weather forecast 0.1111111111111111\n"
     ]
    }
   ],
   "source": [
    "p_rain = 5/365\n",
    "p_forecast_rain = 0.9\n",
    "p_forecast_norain = 0.1\n",
    "p_norain = 360/365\n",
    "p_forecast = (p_forecast_rain*p_rain)+(p_forecast_norain*p_norain)\n",
    "p_rain_forecast = (p_forecast_rain*p_rain)/p_forecast\n",
    "print(\"Probability that it will rain tomorrow knowign the weather forecast\",p_rain_forecast)"
   ]
  },
  {
   "cell_type": "markdown",
   "metadata": {},
   "source": [
    "## Question 5"
   ]
  },
  {
   "cell_type": "markdown",
   "metadata": {},
   "source": [
    "The probability distribution for the speed $v$ of a particle in an ideal gas is given by the _Maxwell-Boltzmann_ distribution:\n",
    "\n",
    "\\begin{equation}\n",
    "4 \\pi \\left(\\frac{m}{2 \\pi k_b T} \\right)^{3/2}  v^2 \\exp \\left( \\frac{-mv^2}{2 k_b T} \\right),\n",
    "\\end{equation}\n",
    "\n",
    "where $k_b$ is Boltzmann's constant, $m$ is the mass of an atom in the gas, and $T$ is the temperature. You can integrate this to confirm that it's correctly normalized if you like! (Incidentally, the wikipedia page on the Maxwell-Boltzmann distribution contains some typos, and a bunch of their expressions are incorrect)."
   ]
  },
  {
   "cell_type": "markdown",
   "metadata": {},
   "source": [
    "__a)__ Suppose we have an ideal gas in the lab. Let's assume that we know what type of gas we have, so the mass is known. To simplify matters, work in units where $m / k_b = 1$. You go into the lab and you make _one_ measurement of velocity (i.e., you measure the speed of _one_ atom). You get $v = 20$ (in our weird units).\n",
    "\n",
    "You'd like to know the temperature of the gas. Prof. Mxyptlk says \"the temperature measures the _average_ kinetic energy of a particle; therefore, with just a single speed measurement we can't know anything about the temperature\". Prove Prof. Mxyptlk wrong by inferring what you can about $T$, the temperature of the gas."
   ]
  },
  {
   "cell_type": "code",
   "execution_count": 204,
   "metadata": {},
   "outputs": [
    {
     "name": "stdout",
     "output_type": "stream",
     "text": [
      "<class 'numpy.ndarray'>\n"
     ]
    },
    {
     "data": {
      "image/png": "[encoded data removed]",
      "text/plain": [
       "<Figure size 432x288 with 1 Axes>"
      ]
     },
     "metadata": {
      "needs_background": "light"
     },
     "output_type": "display_data"
    }
   ],
   "source": [
    "import numpy as np\n",
    "import matplotlib.pyplot as plt\n",
    "\n",
    "def prior(T_min,T_max,N):\n",
    "    prob = [1/(T_max-T_min)]*N\n",
    "    return np.array(prob)\n",
    "\n",
    "def boltzmann(v,T):\n",
    "    x1 = np.pi*4*(1/(np.pi*2*T))**(3/2)\n",
    "    x2 = v**2\n",
    "    x3 = np.exp((-v**2)/(2*T))\n",
    "    x = x1*x2*x3\n",
    "    return np.array(x)\n",
    "\n",
    "def likelihood(v,T,length):\n",
    "    p_likelihood = 1\n",
    "    if length==1:\n",
    "        p_likelihood = boltzmann(v,T)\n",
    "    if length>1:\n",
    "        for speed in v:\n",
    "            p_likelihood = p_likelihood*bolzmann(speed,T)\n",
    "    return np.array(p_likelihood)\n",
    "\n",
    "def posterior(v,T,length):\n",
    "    T_min = np.min(T)\n",
    "    T_max = np.max(T)\n",
    "    p_prior = prior(T_min,T_max,len(T))\n",
    "    p_likelihood = likelihood(v,T,length)\n",
    "    p_posterior = p_prior*p_likelihood\n",
    "    return p_posterior\n",
    "    \n",
    "#speeds = np.linspace(0,100,101)\n",
    "v=20\n",
    "temps = np.linspace(10,700,1000)\n",
    "print(type(temps))\n",
    "\n",
    "plt.plot(temps,posterior(v,temps,1),label='posterior')\n",
    "#plt.plot(temps,likelihood(v,temps,1)/100,label='likelihood')\n",
    "#plt.plot(temps,prior(10,450,301),label='prior')\n",
    "plt.legend()\n",
    "plt.xlabel('Temperature, Kelvin')\n",
    "plt.ylabel('Probability density')\n",
    "plt.title(\"Probability distribution of Temperature given v=20\")\n",
    "plt.show()"
   ]
  },
  {
   "cell_type": "code",
   "execution_count": 205,
   "metadata": {},
   "outputs": [
    {
     "name": "stdout",
     "output_type": "stream",
     "text": [
      "Most probable temperature of the particle in deg K: 133.63363363363362\n"
     ]
    }
   ],
   "source": [
    "p_max = 0\n",
    "t_max = 0\n",
    "probs = posterior(v,temps,1)\n",
    "for i in range(len(temps)):\n",
    "    p_max_temp = probs[i]\n",
    "    if p_max_temp>p_max:\n",
    "        p_max = p_max_temp\n",
    "        t_max = temps[i]\n",
    "T_probable = np.max(posterior(v,temps,1))\n",
    "print(\"Most probable temperature of the particle in deg K:\",t_max)"
   ]
  },
  {
   "cell_type": "markdown",
   "metadata": {},
   "source": [
    "__b)__ What is the 95\\% credibility region for your inferred $T$?"
   ]
  },
  {
   "cell_type": "code",
   "execution_count": 207,
   "metadata": {},
   "outputs": [
    {
     "name": "stdout",
     "output_type": "stream",
     "text": [
      "0.95 % confidence region centered on 271.523 spans from 62.24 to 666.294\n"
     ]
    }
   ],
   "source": [
    "## Your answer here\n",
    "#COPIED STRAIGHT FROM LAB 3\n",
    "\n",
    "def get_n_credible_region(data_vals, posterior_pmf, n):\n",
    "    \"\"\"\n",
    "    Take in a posterior distribution for data b and return a specified n% credible region.\n",
    "    \"\"\"\n",
    "    \n",
    "    #Get the upper and lower bounds of the n% credible region\n",
    "    P_max = 0.5 + n/2\n",
    "    P_min = 0.5 - n/2\n",
    "    P_median = 0.5\n",
    "    \n",
    "    #Add up the cumulative probability and find the b_vals that correspond to the specified bounds & median\n",
    "    min_found = False\n",
    "    max_found = False\n",
    "    median_found = False\n",
    "    cumulative_prob = 0\n",
    "    dx = data_vals[2]-data_vals[1]\n",
    "    data_min=0\n",
    "    data_median=0\n",
    "    data_max = 0\n",
    "    \n",
    "    #Get the cumulative probability at each point and handle renormalization\n",
    "    cumulative_prob_list = np.zeros(len(posterior_pmf))\n",
    "    for i in range(len(posterior_pmf)):\n",
    "        p = posterior_pmf[i]\n",
    "        cumulative_prob += p*dx #need to sum the area under curve, multiply by dx every time\n",
    "        cumulative_prob_list[i] = cumulative_prob\n",
    "\n",
    "    cumulative_renormalized = cumulative_prob_list/max(cumulative_prob_list)\n",
    "\n",
    "    for i in range(len(posterior_pmf)):\n",
    "        c_prob = cumulative_renormalized[i]\n",
    "\n",
    "        if (c_prob>P_min) and not min_found:\n",
    "            data_min = data_vals[i]\n",
    "            min_found = True\n",
    "            #print('min found')\n",
    "\n",
    "        if (c_prob>P_median) and not median_found:\n",
    "            data_median = data_vals[i]\n",
    "            median_found = True\n",
    "            #print('med found')\n",
    "\n",
    "        if (c_prob>P_max) and not max_found:\n",
    "            data_max = data_vals[i]\n",
    "            max_found = True\n",
    "            #print('max found')\n",
    "    \n",
    "    print(n,'% confidence region centered on',round(data_median,3),'spans from',round(data_min,3),'to',round(data_max,3))\n",
    "    \n",
    "    return data_median, data_min, data_max\n",
    "            \n",
    "n = 0.95\n",
    "temps = np.linspace(1,700,100000) #add more points to get a better integral\n",
    "v=20\n",
    "p_post = posterior(v,temps,1)\n",
    "t_median, t_min, t_max = get_n_credible_region(temps, p_post, n)\n"
   ]
  },
  {
   "cell_type": "markdown",
   "metadata": {},
   "source": [
    "__c)__ You take a few more measurements: $v=(30, 28.5, 18, 15, 20, 20)$. Update your knowledge of $T$, stating your assumptions."
   ]
  },
  {
   "cell_type": "markdown",
   "metadata": {},
   "source": []
  },
  {
   "cell_type": "code",
   "execution_count": null,
   "metadata": {},
   "outputs": [],
   "source": [
    "v_array = [30,28.5,18,15,20,20] #new array of velocities\n",
    "\n",
    "#posterior function that lets you take in a prior\n",
    "def posterior_new(v,T,length,p_prior):\n",
    "    p_likelihood = likelihood(v,T,length)\n",
    "    p_posterior = p_prior*p_likelihood\n",
    "    return p_posterior\n",
    "\n",
    "#first prior function is just uniform\n",
    "T_min = np.min(temps)\n",
    "T_max = np.max(temps)\n",
    "p_prior = prior(T_min,T_max,len(temps))\n",
    "\n",
    "#set first old prior to the uniform one\n",
    "old_prior = p_prior\n",
    "for v in v_array:\n",
    "    p_post = posterior_new(v,temps,1,old_prior)\n",
    "    old_prior = p_post #posterior becomes prior for next iteration\n",
    "        \n",
    "plt.plot(temps,p_post,label='posterior')\n",
    "plt.legend()\n",
    "plt.xlabel('Temperature, Kelvin')\n",
    "plt.ylabel('Probability density')\n",
    "plt.title(\"Probability distribution of Temperature given v=20\")\n",
    "plt.show()"
   ]
  },
  {
   "cell_type": "markdown",
   "metadata": {},
   "source": [
    "__d)__ Prof. Mxyptlk says \"ok, ok, but you had to know the mass of the gas. If you didn't know $m$ separately and had to infer $m$ and $T$ simultaneously, you wouldn't get a nice well-defined peak in your probability distribution for $v$. You'd basically find that any value of $T$ is possible.\" Do you agree with Prof. Mxyptlk?\n",
    "\n",
    "* If you agree, explain why and give an example of a probability distribution where reasonable simultaneous constraints on $v$ and $T$ are still possible (i.e., imagine you have the ability to modify the laws of nature to slightly modify the Maxwell-Boltzmann distribution).\n",
    "* If you disagree, explain why Prof. Mxyptlk is incorrect.\n"
   ]
  },
  {
   "cell_type": "markdown",
   "metadata": {},
   "source": [
    "We can marginalize the nuisance parameter (m), which would be possible if the distribution were instead gaussian for example. "
   ]
  },
  {
   "cell_type": "markdown",
   "metadata": {},
   "source": [
    "## Question 6"
   ]
  },
  {
   "cell_type": "markdown",
   "metadata": {},
   "source": [
    "Kevin likes dumplings. He goes to inspect a dumpling factory, where they claim that the length of their dumplings $L$ is Gaussian distributed with mean $4\\,\\textrm{cm}$ and a standard deviation of $1\\,\\textrm{cm}$. Kevin randomly selects $10$ dumplings and measures their lengths, obtaining\n",
    "\n",
    "$L = (5.61, 2.22, 3.11, 6.01, 4.79, 3.70, 2.67, 3.90, 3.86, 3.48)\\,\\textrm{cm}$\n",
    "\n"
   ]
  },
  {
   "cell_type": "markdown",
   "metadata": {},
   "source": [
    "__a)__ Use Bayesian inference to infer the posterior distribution for the mean and standard deviation of dumpling size at this factory. Display your results graphically."
   ]
  },
  {
   "cell_type": "code",
   "execution_count": null,
   "metadata": {},
   "outputs": [],
   "source": [
    "from scipy.stats import norm\n",
    "\n",
    "def prior(L_arr, mean, std):\n",
    "    p_prior = norm.pdf(L_arr , mean, std)\n",
    "    return p_prior\n",
    "#define the range of the plotting and prior assumptions\n",
    "L_arr = np.linspace(0,10,200)\n",
    "mean_prior = 4\n",
    "std_prior = 1\n",
    "p_prior = prior(L_arr,mean_prior,std_prior)\n",
    "\n",
    "#define the data\n",
    "L_data = [5.61,2.22,3.11,6.01,4.79,3.70,2.67,3.90,3.86,3.48]\n",
    "mean_data = np.mean(L_data)\n",
    "std_data = np.std(L_data)\n",
    "\n",
    "\n",
    "def likelihood(L_arr,mean_data,std_data):\n",
    "    p_likelihood = norm.pdf(L_arr,mean_data,std_data)\n",
    "    return p_likelihood\n",
    "\n",
    "\n",
    "def posterior(L_arr,mean_prior,std_prior,mean_data,std_data):\n",
    "    p_likelihood = likelihood(L_arr,mean_data,std_data)\n",
    "    p_prior = prior(L_arr,mean_prior,std_prior)\n",
    "    p_posterior = p_likelihood*p_prior\n",
    "    return p_posterior , p_likelihood, p_prior\n",
    "\n",
    "p_posterior , p_likelihood, p_prior = posterior(L_arr,mean_prior,std_prior,mean_data,std_data)\n",
    "plt.plot(L_arr,p_posterior,label='posterior')\n",
    "plt.plot(L_arr,p_likelihood,label='likelihood')\n",
    "plt.plot(L_arr,p_prior,label='prior')\n",
    "plt.xlabel(\"mean dumpling length\")\n",
    "plt.ylabel(\"probability density\")\n",
    "plt.legend()\n",
    "plt.show()"
   ]
  },
  {
   "cell_type": "markdown",
   "metadata": {},
   "source": [
    "__b)__ What Kevin really cares about is consistency. It doesn't really matter to him whether the dumplings are big or small. What's unacceptable to him is a standard deviation that's larger than $1\\,\\textrm{cm}$. Should Kevin be worried? Make your argument in a quantitative manner."
   ]
  },
  {
   "cell_type": "code",
   "execution_count": null,
   "metadata": {},
   "outputs": [],
   "source": [
    "dump_median, dump_min, dump_max = get_n_credible_region(L_arr, p_posterior, 0.6828)\n",
    "x = (dump_max-dump_min)\n",
    "std = x/2\n",
    "print(\"standard deviation:\",std)\n",
    "print(\"this is less than 1cm so he's FINE.\")"
   ]
  },
  {
   "cell_type": "markdown",
   "metadata": {},
   "source": [
    "## Ungraded question"
   ]
  },
  {
   "cell_type": "markdown",
   "metadata": {},
   "source": [
    "I would like to tailor the last part of the course to your interests. Please fill out [this](https://forms.gle/BFJMx8HEnfQjjbuC9) anonymous survey to help me with that. This is not a graded part of your midterm, but now is just a convenient time to do it."
   ]
  },
  {
   "cell_type": "markdown",
   "metadata": {},
   "source": [
    "## Submission"
   ]
  },
  {
   "cell_type": "markdown",
   "metadata": {},
   "source": [
    "You're done! Do a final git commit, taking care to include everything relevant (e.g., if you have any embedded images). If you decide to revise your answers before the deadline, no problem---just make the changes you want to make and resubmit your work. Push your work to your repo."
   ]
  },
  {
   "cell_type": "code",
   "execution_count": null,
   "metadata": {},
   "outputs": [],
   "source": []
  }
 ],
 "metadata": {
  "kernelspec": {
   "display_name": "Python 3",
   "language": "python",
   "name": "python3"
  },
  "language_info": {
   "codemirror_mode": {
    "name": "ipython",
    "version": 3
   },
   "file_extension": ".py",
   "mimetype": "text/x-python",
   "name": "python",
   "nbconvert_exporter": "python",
   "pygments_lexer": "ipython3",
   "version": "3.7.4"
  }
 },
 "nbformat": 4,
 "nbformat_minor": 4
}
